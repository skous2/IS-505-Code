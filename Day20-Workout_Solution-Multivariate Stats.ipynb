{
 "cells": [
  {
   "cell_type": "markdown",
   "metadata": {},
   "source": [
    "# Day 20 Workout - Multivariate Stats\n",
    "\n",
    "### Objective\n",
    "\n",
    "Create an MLR model to explain and predict the gross revenue of Disney movies from 1937 to 2016.\n",
    "\n",
    "- Use the disney_movies_total_gross.csv file\n",
    "- Follow the code below to create a column called \"days_since_release\", which you should calculate as 1/1/2017 minus the release date\n",
    "- manipulate the dataset however needed to identify insights on both the total gross and adjusted gross variables.\n"
   ]
  },
  {
   "cell_type": "code",
   "execution_count": 52,
   "metadata": {},
   "outputs": [],
   "source": [
    "import pandas as pd\n",
    "from datetime import datetime\n",
    "\n",
    "df = pd.read_csv('data/disney_movies_total_gross.csv')"
   ]
  },
  {
   "cell_type": "code",
   "execution_count": 53,
   "metadata": {},
   "outputs": [],
   "source": [
    "df[\"release_date\"] = pd.to_datetime(df[\"release_date\"])\n",
    "\n",
    "df['days_since_release'] = datetime(2017, 1, 1) - df['release_date']\n",
    "\n",
    "df['days_since_release'] = df['days_since_release'].dt.days"
   ]
  },
  {
   "cell_type": "markdown",
   "metadata": {},
   "source": [
    "Create a regression model for days_since_release as the only feature and total_gross as the label"
   ]
  },
  {
   "cell_type": "code",
   "execution_count": 71,
   "metadata": {},
   "outputs": [
    {
     "data": {
      "text/plain": [
       "LinregressResult(slope=-6332.669588619881, intercept=107443786.44752352, rvalue=-0.2838544996620264, pvalue=3.424281529173464e-12, stderr=890.5569082475823, intercept_stderr=7063367.921552288)"
      ]
     },
     "execution_count": 71,
     "metadata": {},
     "output_type": "execute_result"
    }
   ],
   "source": [
    "from scipy import stats\n",
    "\n",
    "stats.linregress(df.days_since_release, y=df.total_gross)"
   ]
  },
  {
   "cell_type": "code",
   "execution_count": 73,
   "metadata": {},
   "outputs": [
    {
     "name": "stdout",
     "output_type": "stream",
     "text": [
      "                            OLS Regression Results                            \n",
      "==============================================================================\n",
      "Dep. Variable:            total_gross   R-squared:                       0.081\n",
      "Model:                            OLS   Adj. R-squared:                  0.079\n",
      "Method:                 Least Squares   F-statistic:                     50.57\n",
      "Date:                Wed, 06 Dec 2023   Prob (F-statistic):           3.42e-12\n",
      "Time:                        14:47:55   Log-Likelihood:                -11420.\n",
      "No. Observations:                 579   AIC:                         2.284e+04\n",
      "Df Residuals:                     577   BIC:                         2.285e+04\n",
      "Df Model:                           1                                         \n",
      "Covariance Type:            nonrobust                                         \n",
      "======================================================================================\n",
      "                         coef    std err          t      P>|t|      [0.025      0.975]\n",
      "--------------------------------------------------------------------------------------\n",
      "days_since_release -6332.6696    890.557     -7.111      0.000   -8081.798   -4583.541\n",
      "const               1.074e+08   7.06e+06     15.211      0.000    9.36e+07    1.21e+08\n",
      "==============================================================================\n",
      "Omnibus:                      448.660   Durbin-Watson:                   1.750\n",
      "Prob(Omnibus):                  0.000   Jarque-Bera (JB):             8631.152\n",
      "Skew:                           3.295   Prob(JB):                         0.00\n",
      "Kurtosis:                      20.729   Cond. No.                     1.51e+04\n",
      "==============================================================================\n",
      "\n",
      "Notes:\n",
      "[1] Standard Errors assume that the covariance matrix of the errors is correctly specified.\n",
      "[2] The condition number is large, 1.51e+04. This might indicate that there are\n",
      "strong multicollinearity or other numerical problems.\n"
     ]
    }
   ],
   "source": [
    "import statsmodels.api as sm\n",
    "\n",
    "X = pd.DataFrame(df.days_since_release).assign(const=1)\n",
    "\n",
    "model = sm.OLS(df.total_gross, X).fit()\n",
    "print(model.summary())"
   ]
  },
  {
   "cell_type": "markdown",
   "metadata": {},
   "source": [
    "- fill in all null values for mpaa_rating with \"Empty\"\n",
    "- Create dummy code features to convert mpaa_rating to sets of numeric 0/1 features for all values except \"Empty\" (hint: drop_first will automatically select \"Empty\")"
   ]
  },
  {
   "cell_type": "code",
   "execution_count": 55,
   "metadata": {},
   "outputs": [],
   "source": [
    "df.mpaa_rating.fillna('Empty', inplace=True)"
   ]
  },
  {
   "cell_type": "code",
   "execution_count": 64,
   "metadata": {},
   "outputs": [],
   "source": [
    "df2 = pd.get_dummies(df, columns=['mpaa_rating'], dtype=int, drop_first=True).assign(const=1)"
   ]
  },
  {
   "cell_type": "markdown",
   "metadata": {},
   "source": [
    "Create a new regression model for days_since_release and rating as the features and total_gross as the label"
   ]
  },
  {
   "cell_type": "code",
   "execution_count": 74,
   "metadata": {},
   "outputs": [
    {
     "name": "stdout",
     "output_type": "stream",
     "text": [
      "                            OLS Regression Results                            \n",
      "==============================================================================\n",
      "Dep. Variable:            total_gross   R-squared:                       0.122\n",
      "Model:                            OLS   Adj. R-squared:                  0.112\n",
      "Method:                 Least Squares   F-statistic:                     13.19\n",
      "Date:                Wed, 06 Dec 2023   Prob (F-statistic):           5.12e-14\n",
      "Time:                        14:49:15   Log-Likelihood:                -11407.\n",
      "No. Observations:                 579   AIC:                         2.283e+04\n",
      "Df Residuals:                     572   BIC:                         2.286e+04\n",
      "Df Model:                           6                                         \n",
      "Covariance Type:            nonrobust                                         \n",
      "=========================================================================================\n",
      "                            coef    std err          t      P>|t|      [0.025      0.975]\n",
      "-----------------------------------------------------------------------------------------\n",
      "days_since_release    -5481.8932   1013.982     -5.406      0.000   -7473.475   -3490.311\n",
      "mpaa_rating_G          4.668e+07    1.6e+07      2.909      0.004    1.52e+07    7.82e+07\n",
      "mpaa_rating_Not Rated   4.43e+07    5.2e+07      0.853      0.394   -5.78e+07    1.46e+08\n",
      "mpaa_rating_PG         2.014e+07   1.51e+07      1.333      0.183   -9.53e+06    4.98e+07\n",
      "mpaa_rating_PG-13      2.715e+07   1.55e+07      1.747      0.081   -3.37e+06    5.77e+07\n",
      "mpaa_rating_R         -1.458e+07   1.55e+07     -0.940      0.347    -4.5e+07    1.59e+07\n",
      "const                   8.38e+07   1.73e+07      4.857      0.000    4.99e+07    1.18e+08\n",
      "==============================================================================\n",
      "Omnibus:                      451.320   Durbin-Watson:                   1.789\n",
      "Prob(Omnibus):                  0.000   Jarque-Bera (JB):             9494.295\n",
      "Skew:                           3.284   Prob(JB):                         0.00\n",
      "Kurtosis:                      21.719   Cond. No.                     1.14e+05\n",
      "==============================================================================\n",
      "\n",
      "Notes:\n",
      "[1] Standard Errors assume that the covariance matrix of the errors is correctly specified.\n",
      "[2] The condition number is large, 1.14e+05. This might indicate that there are\n",
      "strong multicollinearity or other numerical problems.\n"
     ]
    }
   ],
   "source": [
    "model = sm.OLS(df2.total_gross, df2.iloc[:,5:]).fit()\n",
    "print(model.summary())"
   ]
  },
  {
   "cell_type": "markdown",
   "metadata": {},
   "source": [
    "If you change the value to inflated adjusted gross, how does that change the results?"
   ]
  },
  {
   "cell_type": "code",
   "execution_count": 75,
   "metadata": {},
   "outputs": [
    {
     "name": "stdout",
     "output_type": "stream",
     "text": [
      "                               OLS Regression Results                               \n",
      "====================================================================================\n",
      "Dep. Variable:     inflation_adjusted_gross   R-squared:                       0.257\n",
      "Model:                                  OLS   Adj. R-squared:                  0.249\n",
      "Method:                       Least Squares   F-statistic:                     32.94\n",
      "Date:                      Wed, 06 Dec 2023   Prob (F-statistic):           3.79e-34\n",
      "Time:                              14:53:20   Log-Likelihood:                -12009.\n",
      "No. Observations:                       579   AIC:                         2.403e+04\n",
      "Df Residuals:                           572   BIC:                         2.406e+04\n",
      "Df Model:                                 6                                         \n",
      "Covariance Type:                  nonrobust                                         \n",
      "=========================================================================================\n",
      "                            coef    std err          t      P>|t|      [0.025      0.975]\n",
      "-----------------------------------------------------------------------------------------\n",
      "days_since_release     3.429e+04   2868.639     11.954      0.000    2.87e+04    3.99e+04\n",
      "mpaa_rating_G          4.214e+08   4.54e+07      9.284      0.000    3.32e+08    5.11e+08\n",
      "mpaa_rating_Not Rated  1.845e+08   1.47e+08      1.255      0.210   -1.04e+08    4.73e+08\n",
      "mpaa_rating_PG         2.823e+08   4.27e+07      6.606      0.000    1.98e+08    3.66e+08\n",
      "mpaa_rating_PG-13      2.871e+08    4.4e+07      6.530      0.000    2.01e+08    3.73e+08\n",
      "mpaa_rating_R          1.763e+08   4.39e+07      4.019      0.000    9.02e+07    2.63e+08\n",
      "const                 -3.704e+08   4.88e+07     -7.587      0.000   -4.66e+08   -2.74e+08\n",
      "==============================================================================\n",
      "Omnibus:                      929.526   Durbin-Watson:                   0.822\n",
      "Prob(Omnibus):                  0.000   Jarque-Bera (JB):           509695.315\n",
      "Skew:                           9.153   Prob(JB):                         0.00\n",
      "Kurtosis:                     147.195   Cond. No.                     1.14e+05\n",
      "==============================================================================\n",
      "\n",
      "Notes:\n",
      "[1] Standard Errors assume that the covariance matrix of the errors is correctly specified.\n",
      "[2] The condition number is large, 1.14e+05. This might indicate that there are\n",
      "strong multicollinearity or other numerical problems.\n"
     ]
    }
   ],
   "source": [
    "model = sm.OLS(df2.inflation_adjusted_gross, df2.iloc[:,5:]).fit()\n",
    "print(model.summary())"
   ]
  }
 ],
 "metadata": {
  "kernelspec": {
   "display_name": "base",
   "language": "python",
   "name": "python3"
  },
  "language_info": {
   "codemirror_mode": {
    "name": "ipython",
    "version": 3
   },
   "file_extension": ".py",
   "mimetype": "text/x-python",
   "name": "python",
   "nbconvert_exporter": "python",
   "pygments_lexer": "ipython3",
   "version": "3.11.3"
  }
 },
 "nbformat": 4,
 "nbformat_minor": 2
}
