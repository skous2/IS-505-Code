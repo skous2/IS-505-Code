{
 "cells": [
  {
   "cell_type": "markdown",
   "metadata": {},
   "source": [
    "# Day 12 Workout - Combining Datasets"
   ]
  },
  {
   "cell_type": "code",
   "execution_count": 1,
   "metadata": {},
   "outputs": [],
   "source": [
    "import pandas as pd\n",
    "import numpy as np"
   ]
  },
  {
   "cell_type": "code",
   "execution_count": 2,
   "metadata": {},
   "outputs": [
    {
     "data": {
      "text/html": [
       "<div>\n",
       "<style scoped>\n",
       "    .dataframe tbody tr th:only-of-type {\n",
       "        vertical-align: middle;\n",
       "    }\n",
       "\n",
       "    .dataframe tbody tr th {\n",
       "        vertical-align: top;\n",
       "    }\n",
       "\n",
       "    .dataframe thead th {\n",
       "        text-align: right;\n",
       "    }\n",
       "</style>\n",
       "<table border=\"1\" class=\"dataframe\">\n",
       "  <thead>\n",
       "    <tr style=\"text-align: right;\">\n",
       "      <th></th>\n",
       "      <th>Company</th>\n",
       "      <th>Country</th>\n",
       "      <th>MarketCap</th>\n",
       "      <th>Cash</th>\n",
       "      <th>Revenue</th>\n",
       "    </tr>\n",
       "  </thead>\n",
       "  <tbody>\n",
       "    <tr>\n",
       "      <th>0</th>\n",
       "      <td>Apple</td>\n",
       "      <td>USA</td>\n",
       "      <td>$547</td>\n",
       "      <td>$233</td>\n",
       "      <td>$235</td>\n",
       "    </tr>\n",
       "    <tr>\n",
       "      <th>1</th>\n",
       "      <td>Google/Alphabet</td>\n",
       "      <td>USA</td>\n",
       "      <td>$510</td>\n",
       "      <td>$79</td>\n",
       "      <td>$75</td>\n",
       "    </tr>\n",
       "    <tr>\n",
       "      <th>2</th>\n",
       "      <td>Amazon</td>\n",
       "      <td>USA</td>\n",
       "      <td>$341</td>\n",
       "      <td>$16</td>\n",
       "      <td>$107</td>\n",
       "    </tr>\n",
       "    <tr>\n",
       "      <th>3</th>\n",
       "      <td>Facebook</td>\n",
       "      <td>USA</td>\n",
       "      <td>$340</td>\n",
       "      <td>$21</td>\n",
       "      <td>$18</td>\n",
       "    </tr>\n",
       "    <tr>\n",
       "      <th>4</th>\n",
       "      <td>Tencent</td>\n",
       "      <td>China</td>\n",
       "      <td>$206</td>\n",
       "      <td>$14</td>\n",
       "      <td>$16</td>\n",
       "    </tr>\n",
       "    <tr>\n",
       "      <th>5</th>\n",
       "      <td>Alibaba</td>\n",
       "      <td>China</td>\n",
       "      <td>$205</td>\n",
       "      <td>$18</td>\n",
       "      <td>$15</td>\n",
       "    </tr>\n",
       "    <tr>\n",
       "      <th>6</th>\n",
       "      <td>Priceline Group</td>\n",
       "      <td>USA</td>\n",
       "      <td>$63</td>\n",
       "      <td>$11</td>\n",
       "      <td>$9</td>\n",
       "    </tr>\n",
       "    <tr>\n",
       "      <th>7</th>\n",
       "      <td>Uber</td>\n",
       "      <td>USA</td>\n",
       "      <td>$63</td>\n",
       "      <td>$-</td>\n",
       "      <td>$-</td>\n",
       "    </tr>\n",
       "    <tr>\n",
       "      <th>8</th>\n",
       "      <td>Baidu</td>\n",
       "      <td>China</td>\n",
       "      <td>$62</td>\n",
       "      <td>$11</td>\n",
       "      <td>$10</td>\n",
       "    </tr>\n",
       "    <tr>\n",
       "      <th>9</th>\n",
       "      <td>Ant Financial</td>\n",
       "      <td>China</td>\n",
       "      <td>$60</td>\n",
       "      <td>$-</td>\n",
       "      <td>$-</td>\n",
       "    </tr>\n",
       "    <tr>\n",
       "      <th>10</th>\n",
       "      <td>Salesforce</td>\n",
       "      <td>USA</td>\n",
       "      <td>$57</td>\n",
       "      <td>$4</td>\n",
       "      <td>$7</td>\n",
       "    </tr>\n",
       "    <tr>\n",
       "      <th>11</th>\n",
       "      <td>Xiaomi</td>\n",
       "      <td>China</td>\n",
       "      <td>$46</td>\n",
       "      <td>$-</td>\n",
       "      <td>$-</td>\n",
       "    </tr>\n",
       "    <tr>\n",
       "      <th>12</th>\n",
       "      <td>Paypal</td>\n",
       "      <td>USA</td>\n",
       "      <td>$46</td>\n",
       "      <td>$6</td>\n",
       "      <td>$9</td>\n",
       "    </tr>\n",
       "    <tr>\n",
       "      <th>13</th>\n",
       "      <td>Netflix</td>\n",
       "      <td>USA</td>\n",
       "      <td>$44</td>\n",
       "      <td>$2</td>\n",
       "      <td>$7</td>\n",
       "    </tr>\n",
       "    <tr>\n",
       "      <th>14</th>\n",
       "      <td>Yahoo</td>\n",
       "      <td>USA</td>\n",
       "      <td>$36</td>\n",
       "      <td>$10</td>\n",
       "      <td>$5</td>\n",
       "    </tr>\n",
       "    <tr>\n",
       "      <th>15</th>\n",
       "      <td>JD.com</td>\n",
       "      <td>China</td>\n",
       "      <td>$34</td>\n",
       "      <td>$5</td>\n",
       "      <td>$28</td>\n",
       "    </tr>\n",
       "    <tr>\n",
       "      <th>16</th>\n",
       "      <td>eBay</td>\n",
       "      <td>USA</td>\n",
       "      <td>$28</td>\n",
       "      <td>$11</td>\n",
       "      <td>$9</td>\n",
       "    </tr>\n",
       "    <tr>\n",
       "      <th>17</th>\n",
       "      <td>Airbnb</td>\n",
       "      <td>USA</td>\n",
       "      <td>$26</td>\n",
       "      <td>$-</td>\n",
       "      <td>$-</td>\n",
       "    </tr>\n",
       "    <tr>\n",
       "      <th>18</th>\n",
       "      <td>Yahoo Japan</td>\n",
       "      <td>Japan</td>\n",
       "      <td>$26</td>\n",
       "      <td>$5</td>\n",
       "      <td>$5</td>\n",
       "    </tr>\n",
       "    <tr>\n",
       "      <th>19</th>\n",
       "      <td>Didi Kuaidi</td>\n",
       "      <td>China</td>\n",
       "      <td>$25</td>\n",
       "      <td>$-</td>\n",
       "      <td>$-</td>\n",
       "    </tr>\n",
       "  </tbody>\n",
       "</table>\n",
       "</div>"
      ],
      "text/plain": [
       "            Company Country MarketCap    Cash Revenue\n",
       "0             Apple     USA     $547    $233    $235 \n",
       "1   Google/Alphabet     USA     $510     $79     $75 \n",
       "2            Amazon     USA     $341     $16    $107 \n",
       "3          Facebook     USA     $340     $21     $18 \n",
       "4           Tencent   China     $206     $14     $16 \n",
       "5           Alibaba   China     $205     $18     $15 \n",
       "6   Priceline Group     USA      $63     $11      $9 \n",
       "7              Uber     USA      $63    $-      $-   \n",
       "8             Baidu   China      $62     $11     $10 \n",
       "9     Ant Financial   China      $60    $-      $-   \n",
       "10       Salesforce     USA      $57      $4      $7 \n",
       "11           Xiaomi   China      $46    $-      $-   \n",
       "12           Paypal     USA      $46      $6      $9 \n",
       "13          Netflix     USA      $44      $2      $7 \n",
       "14            Yahoo     USA      $36     $10      $5 \n",
       "15           JD.com   China      $34      $5     $28 \n",
       "16             eBay     USA      $28     $11      $9 \n",
       "17           Airbnb     USA      $26    $-      $-   \n",
       "18      Yahoo Japan   Japan      $26      $5      $5 \n",
       "19      Didi Kuaidi   China      $25    $-      $-   "
      ]
     },
     "execution_count": 2,
     "metadata": {},
     "output_type": "execute_result"
    }
   ],
   "source": [
    "data = pd.read_csv('data/InternetCompanies.csv')\n",
    "data"
   ]
  },
  {
   "cell_type": "markdown",
   "metadata": {},
   "source": [
    "`data` is broken to two data frames `data1` and `data2`.\n",
    "Reassemble the data from the two data frames"
   ]
  },
  {
   "cell_type": "code",
   "execution_count": 3,
   "metadata": {},
   "outputs": [],
   "source": [
    "data1 = data.iloc[:10, :]\n",
    "data2 = data.iloc[10:, :]"
   ]
  },
  {
   "cell_type": "code",
   "execution_count": 1,
   "metadata": {},
   "outputs": [],
   "source": [
    "#Solution\n"
   ]
  },
  {
   "cell_type": "markdown",
   "metadata": {},
   "source": [
    "`data` is broken to two data frames `data1` and `data2`.\n",
    "Reassemble the data from the two data frames"
   ]
  },
  {
   "cell_type": "code",
   "execution_count": 8,
   "metadata": {},
   "outputs": [],
   "source": [
    "data1 = data.iloc[:, :2]\n",
    "data2 = data.iloc[:, 2:]"
   ]
  },
  {
   "cell_type": "code",
   "execution_count": 2,
   "metadata": {},
   "outputs": [],
   "source": [
    "#Solution\n"
   ]
  },
  {
   "cell_type": "markdown",
   "metadata": {},
   "source": [
    "`data` is broken to four data frames `data1`, `data2`, `data3`, and `data4`.\n",
    "Reassemble the data from the four data frames"
   ]
  },
  {
   "cell_type": "code",
   "execution_count": 12,
   "metadata": {},
   "outputs": [],
   "source": [
    "data1 = data.iloc[:10, :2]\n",
    "data2 = data.iloc[10:, :2]\n",
    "data3 = data.iloc[:10, 2:]\n",
    "data4 = data.iloc[10:, 2:]"
   ]
  },
  {
   "cell_type": "code",
   "execution_count": 3,
   "metadata": {},
   "outputs": [],
   "source": [
    "#Solution\n"
   ]
  },
  {
   "cell_type": "markdown",
   "metadata": {},
   "source": [
    "## Merge"
   ]
  },
  {
   "cell_type": "markdown",
   "metadata": {},
   "source": [
    "The data frames `Customers`, `Employees`, `Offices`, `OrderDetails`, `Orders`, `Payments`, `ProductLines`, and `Products` contain data of the corresponding tables in the [ClassicModels database](https://www.richardtwatson.com/open/Reader/ClassicModels.html).\n",
    "\n",
    "The entity relationship diagram is shown here:\n",
    " \n",
    "![ERD](ClassicModels.png)"
   ]
  },
  {
   "cell_type": "code",
   "execution_count": 41,
   "metadata": {},
   "outputs": [
    {
     "data": {
      "text/html": [
       "<div>\n",
       "<style scoped>\n",
       "    .dataframe tbody tr th:only-of-type {\n",
       "        vertical-align: middle;\n",
       "    }\n",
       "\n",
       "    .dataframe tbody tr th {\n",
       "        vertical-align: top;\n",
       "    }\n",
       "\n",
       "    .dataframe thead th {\n",
       "        text-align: right;\n",
       "    }\n",
       "</style>\n",
       "<table border=\"1\" class=\"dataframe\">\n",
       "  <thead>\n",
       "    <tr style=\"text-align: right;\">\n",
       "      <th></th>\n",
       "      <th>customerNumber</th>\n",
       "      <th>customerName</th>\n",
       "      <th>contactLastName</th>\n",
       "      <th>contactFirstName</th>\n",
       "      <th>phone</th>\n",
       "      <th>addressLine1</th>\n",
       "      <th>addressLine2</th>\n",
       "      <th>city</th>\n",
       "      <th>state</th>\n",
       "      <th>postalCode</th>\n",
       "      <th>country</th>\n",
       "      <th>salesRepEmployeeNumber</th>\n",
       "      <th>creditLimit</th>\n",
       "      <th>customerLocation</th>\n",
       "    </tr>\n",
       "  </thead>\n",
       "  <tbody>\n",
       "    <tr>\n",
       "      <th>0</th>\n",
       "      <td>103</td>\n",
       "      <td>Atelier graphique</td>\n",
       "      <td>Schmitt</td>\n",
       "      <td>Carine</td>\n",
       "      <td>40.32.2555</td>\n",
       "      <td>54, rue Royale</td>\n",
       "      <td>NaN</td>\n",
       "      <td>Nantes</td>\n",
       "      <td>NaN</td>\n",
       "      <td>44000</td>\n",
       "      <td>France</td>\n",
       "      <td>1370</td>\n",
       "      <td>21000.0</td>\n",
       "      <td>0</td>\n",
       "    </tr>\n",
       "    <tr>\n",
       "      <th>1</th>\n",
       "      <td>112</td>\n",
       "      <td>Signal Gift Stores</td>\n",
       "      <td>King</td>\n",
       "      <td>Jean</td>\n",
       "      <td>7025551838</td>\n",
       "      <td>8489 Strong St.</td>\n",
       "      <td>NaN</td>\n",
       "      <td>Las Vegas</td>\n",
       "      <td>NV</td>\n",
       "      <td>83030</td>\n",
       "      <td>USA</td>\n",
       "      <td>1166</td>\n",
       "      <td>71800.0</td>\n",
       "      <td>0</td>\n",
       "    </tr>\n",
       "    <tr>\n",
       "      <th>2</th>\n",
       "      <td>114</td>\n",
       "      <td>Australian Collectors, Co.</td>\n",
       "      <td>Ferguson</td>\n",
       "      <td>Peter</td>\n",
       "      <td>03 9520 4555</td>\n",
       "      <td>636 St Kilda Road</td>\n",
       "      <td>Level 3</td>\n",
       "      <td>Melbourne</td>\n",
       "      <td>Victoria</td>\n",
       "      <td>3004</td>\n",
       "      <td>Australia</td>\n",
       "      <td>1611</td>\n",
       "      <td>117300.0</td>\n",
       "      <td>0</td>\n",
       "    </tr>\n",
       "    <tr>\n",
       "      <th>3</th>\n",
       "      <td>119</td>\n",
       "      <td>La Rochelle Gifts</td>\n",
       "      <td>Labrune</td>\n",
       "      <td>Janine</td>\n",
       "      <td>40.67.8555</td>\n",
       "      <td>67, rue des Cinquante Otages</td>\n",
       "      <td>NaN</td>\n",
       "      <td>Nantes</td>\n",
       "      <td>NaN</td>\n",
       "      <td>44000</td>\n",
       "      <td>France</td>\n",
       "      <td>1370</td>\n",
       "      <td>118200.0</td>\n",
       "      <td>0</td>\n",
       "    </tr>\n",
       "    <tr>\n",
       "      <th>4</th>\n",
       "      <td>121</td>\n",
       "      <td>Baane Mini Imports</td>\n",
       "      <td>Bergulfsen</td>\n",
       "      <td>Jonas</td>\n",
       "      <td>07-98 9555</td>\n",
       "      <td>Erling Skakkes gate 78</td>\n",
       "      <td>NaN</td>\n",
       "      <td>Stavern</td>\n",
       "      <td>NaN</td>\n",
       "      <td>4110</td>\n",
       "      <td>Norway</td>\n",
       "      <td>1504</td>\n",
       "      <td>81700.0</td>\n",
       "      <td>0</td>\n",
       "    </tr>\n",
       "  </tbody>\n",
       "</table>\n",
       "</div>"
      ],
      "text/plain": [
       "   customerNumber                customerName contactLastName  \\\n",
       "0             103           Atelier graphique         Schmitt   \n",
       "1             112          Signal Gift Stores            King   \n",
       "2             114  Australian Collectors, Co.        Ferguson   \n",
       "3             119           La Rochelle Gifts         Labrune   \n",
       "4             121          Baane Mini Imports      Bergulfsen   \n",
       "\n",
       "  contactFirstName         phone                  addressLine1 addressLine2  \\\n",
       "0          Carine     40.32.2555                54, rue Royale          NaN   \n",
       "1             Jean    7025551838               8489 Strong St.          NaN   \n",
       "2            Peter  03 9520 4555             636 St Kilda Road      Level 3   \n",
       "3          Janine     40.67.8555  67, rue des Cinquante Otages          NaN   \n",
       "4           Jonas     07-98 9555        Erling Skakkes gate 78          NaN   \n",
       "\n",
       "        city     state postalCode    country  salesRepEmployeeNumber  \\\n",
       "0     Nantes       NaN      44000     France                    1370   \n",
       "1  Las Vegas        NV      83030        USA                    1166   \n",
       "2  Melbourne  Victoria       3004  Australia                    1611   \n",
       "3     Nantes       NaN      44000     France                    1370   \n",
       "4    Stavern       NaN       4110     Norway                    1504   \n",
       "\n",
       "   creditLimit  customerLocation  \n",
       "0      21000.0                 0  \n",
       "1      71800.0                 0  \n",
       "2     117300.0                 0  \n",
       "3     118200.0                 0  \n",
       "4      81700.0                 0  "
      ]
     },
     "execution_count": 41,
     "metadata": {},
     "output_type": "execute_result"
    }
   ],
   "source": [
    "Customers = pd.read_csv('data/ClassicModels_Customers.csv', sep=';')\n",
    "Employees = pd.read_csv('data/ClassicModels_Employees.csv', sep=';')\n",
    "Offices = pd.read_csv('data/ClassicModels_Offices.csv', sep=';')\n",
    "OrderDetails = pd.read_csv('data/ClassicModels_OrderDetails.csv', sep=';')\n",
    "Orders = pd.read_csv('data/ClassicModels_Orders.csv', sep=';')\n",
    "Payments = pd.read_csv('data/ClassicModels_Payments.csv', sep=';')\n",
    "Payments = pd.read_csv('data/ClassicModels_Payments.csv', sep=';')\n",
    "Products = pd.read_csv('data/ClassicModels_Products.csv', sep=';')\n",
    "Customers.head()\n"
   ]
  },
  {
   "cell_type": "markdown",
   "metadata": {},
   "source": [
    "Using Pandas merge and join operations, answer the following questions:\n",
    "\n",
    "*One to many relationship*\n",
    "\n",
    "- Report the account representative for each customer.\n",
    "- Report total payments for Atelier graphique.\n",
    "- Report the total payments by date\n",
    "- Report the products that have not been sold.\n",
    "- List the amount paid by each customer.\n",
    "- How many orders have been placed by Herkku Gifts?\n",
    "- Who are the employees in Boston?\n",
    "- Report those payments greater than \\\\$100,000. Sort the report so the customer who made the highest payment appears first.\n",
    "- List the value of 'On Hold' orders.\n",
    "- Report the number of orders 'On Hold' for each customer.\n",
    "\n",
    "*Many to many relationship*\n",
    "\n",
    "- List products sold sorted by order date.\n",
    "- List the order dates in descending order for orders for the 1940 Ford Pickup Truck."
   ]
  },
  {
   "cell_type": "code",
   "execution_count": 4,
   "metadata": {},
   "outputs": [],
   "source": [
    "#Report the account representative for each customer.\n"
   ]
  },
  {
   "cell_type": "code",
   "execution_count": 5,
   "metadata": {},
   "outputs": [],
   "source": [
    "#Report total payments for Atelier graphique.\n"
   ]
  },
  {
   "cell_type": "code",
   "execution_count": 6,
   "metadata": {},
   "outputs": [],
   "source": [
    "#Report the total payments by date\n"
   ]
  },
  {
   "cell_type": "code",
   "execution_count": 7,
   "metadata": {},
   "outputs": [],
   "source": [
    "#Report the products that have not been sold.\n",
    "\n"
   ]
  },
  {
   "cell_type": "code",
   "execution_count": 8,
   "metadata": {},
   "outputs": [],
   "source": [
    "#List the amount paid by each customer.\n"
   ]
  },
  {
   "cell_type": "code",
   "execution_count": 9,
   "metadata": {},
   "outputs": [],
   "source": [
    "#How many orders have been placed by Herkku Gifts?\n"
   ]
  },
  {
   "cell_type": "code",
   "execution_count": 10,
   "metadata": {},
   "outputs": [],
   "source": [
    "#Who are the employees in Boston?\n"
   ]
  },
  {
   "cell_type": "code",
   "execution_count": 11,
   "metadata": {},
   "outputs": [],
   "source": [
    "#Report those payments greater than $100,000. \n",
    "#Sort the report so the customer who made the highest payment appears first.\n",
    "\n"
   ]
  },
  {
   "cell_type": "code",
   "execution_count": 12,
   "metadata": {},
   "outputs": [],
   "source": [
    "#List the value of 'On Hold' orders.\n"
   ]
  },
  {
   "cell_type": "code",
   "execution_count": 13,
   "metadata": {},
   "outputs": [],
   "source": [
    "#Report the number of orders 'On Hold' for each customer.\n"
   ]
  },
  {
   "cell_type": "code",
   "execution_count": 14,
   "metadata": {},
   "outputs": [],
   "source": [
    "#List products sold sorted by order date.\n"
   ]
  },
  {
   "cell_type": "code",
   "execution_count": 15,
   "metadata": {},
   "outputs": [],
   "source": [
    "#List the order dates in descending order for orders for the 1940 Ford Pickup Truck.\n"
   ]
  }
 ],
 "metadata": {
  "kernelspec": {
   "display_name": "Python 3",
   "language": "python",
   "name": "python3"
  },
  "language_info": {
   "codemirror_mode": {
    "name": "ipython",
    "version": 3
   },
   "file_extension": ".py",
   "mimetype": "text/x-python",
   "name": "python",
   "nbconvert_exporter": "python",
   "pygments_lexer": "ipython3",
   "version": "3.11.7"
  }
 },
 "nbformat": 4,
 "nbformat_minor": 2
}
