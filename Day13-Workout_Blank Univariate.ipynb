{
 "cells": [
  {
   "cell_type": "markdown",
   "metadata": {},
   "source": [
    "# Day 13 Workout - Univariate"
   ]
  },
  {
   "cell_type": "markdown",
   "metadata": {},
   "source": [
    "download and import the \"heart_attack_clean.csv\" dataset. For details about the dataset's variables you could go to this website [heart attack dataset](https://www.kaggle.com/datasets/imnikhilanand/heart-attack-prediction)"
   ]
  },
  {
   "cell_type": "code",
   "execution_count": null,
   "metadata": {},
   "outputs": [],
   "source": []
  },
  {
   "cell_type": "markdown",
   "metadata": {},
   "source": [
    "Explore the following features of the dataset:\n",
    "1. Number of rows and columns\n",
    "2. Number of unique values in each feature\n",
    "3. The data type of each feature"
   ]
  },
  {
   "cell_type": "code",
   "execution_count": null,
   "metadata": {},
   "outputs": [],
   "source": []
  },
  {
   "cell_type": "markdown",
   "metadata": {},
   "source": [
    "Continue your analysis by calculating the range and middle of each feature and finding the following:\n",
    "1. Minimum, 25% quantile, median, 75% quantile, max\n",
    "2. Mean, mode, standard deviation\n",
    "3. Skewness and kurtosis"
   ]
  },
  {
   "cell_type": "code",
   "execution_count": null,
   "metadata": {},
   "outputs": [],
   "source": []
  },
  {
   "cell_type": "markdown",
   "metadata": {},
   "source": [
    "- Create a new DataFrame called 'ha_df'\n",
    "\n",
    "- Add 11 columns in the DataFrame for each of the columns in the original dataset (age, sex, cp, trestbps, chol, fbs, restecg, thalach, exang, oldpeak, num)\n",
    "\n",
    "- Create 13 rows in this DataFrame by adding one row that calculates each of the metrics listed in the above tasks except for the count of columns (count of rows, unique values, data type, min, 25%, median, 75%, max, mean, mode, std dev, skew, kurt) for each of the 11 features. Use the name of the feature as the row index label"
   ]
  },
  {
   "cell_type": "code",
   "execution_count": null,
   "metadata": {},
   "outputs": [],
   "source": []
  },
  {
   "cell_type": "markdown",
   "metadata": {},
   "source": [
    "Create an inverted version of the same matrix table you just created:"
   ]
  },
  {
   "cell_type": "code",
   "execution_count": null,
   "metadata": {},
   "outputs": [],
   "source": []
  },
  {
   "cell_type": "markdown",
   "metadata": {},
   "source": [
    "Sort the inverted DataFrame based on the Mean column:"
   ]
  },
  {
   "cell_type": "code",
   "execution_count": null,
   "metadata": {},
   "outputs": [],
   "source": []
  },
  {
   "cell_type": "markdown",
   "metadata": {},
   "source": [
    "Sort the inverted DataFrame based on the Skew column descending:"
   ]
  },
  {
   "cell_type": "code",
   "execution_count": null,
   "metadata": {},
   "outputs": [],
   "source": []
  },
  {
   "cell_type": "markdown",
   "metadata": {},
   "source": [
    "Print out any variables that have problems with skewness"
   ]
  },
  {
   "cell_type": "code",
   "execution_count": null,
   "metadata": {},
   "outputs": [],
   "source": []
  },
  {
   "cell_type": "markdown",
   "metadata": {},
   "source": [
    "#### Download and import the \"grades.csv\" and \"bikebuyers.csv\" to complete this portion of the workout"
   ]
  },
  {
   "cell_type": "code",
   "execution_count": null,
   "metadata": {},
   "outputs": [],
   "source": []
  },
  {
   "cell_type": "markdown",
   "metadata": {},
   "source": [
    "Anneli, a teacher, wants to know if there is a relationship between reading percent and how students do on assessments. She downloaded a CSV of the students’ reading percent and average assessment score. Before completing any statistical analysis, Anneli wants to use histograms to see if there is a relationship. Make a double histogram with the data to see if there is any relationship. \n",
    "\n",
    "To make the graph easier to read, include a key that shows what each line represents."
   ]
  },
  {
   "cell_type": "code",
   "execution_count": 34,
   "metadata": {},
   "outputs": [],
   "source": [
    "###using matplotlib\n",
    "\n"
   ]
  },
  {
   "cell_type": "code",
   "execution_count": 35,
   "metadata": {},
   "outputs": [],
   "source": [
    "### Using seaborn\n"
   ]
  },
  {
   "cell_type": "markdown",
   "metadata": {},
   "source": [
    "Next, a bike shop owner has a dataset of customers who entered her store and were willing to answer a short survey about themselves (bikebuyers.csv). She would like a combined histogram and box plot that shows the distribution of the age of her customers. Create that as a stacked plot."
   ]
  },
  {
   "cell_type": "code",
   "execution_count": null,
   "metadata": {},
   "outputs": [],
   "source": []
  }
 ],
 "metadata": {
  "kernelspec": {
   "display_name": "Python 3 (ipykernel)",
   "language": "python",
   "name": "python3"
  },
  "language_info": {
   "codemirror_mode": {
    "name": "ipython",
    "version": 3
   },
   "file_extension": ".py",
   "mimetype": "text/x-python",
   "name": "python",
   "nbconvert_exporter": "python",
   "pygments_lexer": "ipython3",
   "version": "3.11.3"
  },
  "orig_nbformat": 4
 },
 "nbformat": 4,
 "nbformat_minor": 2
}
