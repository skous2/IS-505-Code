{
 "cells": [
  {
   "cell_type": "code",
   "execution_count": 26,
   "metadata": {},
   "outputs": [],
   "source": [
    "import pandas as pd\n",
    "import numpy as np"
   ]
  },
  {
   "cell_type": "code",
   "execution_count": 27,
   "metadata": {},
   "outputs": [],
   "source": [
    "class_df = pd.read_csv(r'C:\\Users\\skous2\\Box\\Teaching\\Winter 2024\\IS 505\\IS 505 Class Data.csv')\n",
    "cleaned_class_df = pd.DataFrame(columns = ['favColor', 'sleepHours', 'toothbrush', 'waterCups',\n",
    "                                            'phoneType', 'steps', 'languages', 'countries',\n",
    "                                            'music', 'season', 'socialMedia', 'books', 'siblings',\n",
    "                                            'instruments', 'mornOrNight', 'pets', 'eatOut'])"
   ]
  },
  {
   "cell_type": "code",
   "execution_count": 28,
   "metadata": {},
   "outputs": [],
   "source": [
    "# What type of phone do you use?\n",
    "phones = class_df.iloc[:,5]\n",
    "phones = phones.str.capitalize()\n",
    "cleaned_class_df['phoneType'] = phones\n",
    "#cleaned_class_df['phoneType']"
   ]
  },
  {
   "cell_type": "code",
   "execution_count": 29,
   "metadata": {},
   "outputs": [],
   "source": [
    "countries_visited = class_df.iloc[:,8]\n",
    "countries_visited = countries_visited.replace(np.nan,'0')\n",
    "countries_visited = countries_visited.replace('two','2')\n",
    "countries_visited = countries_visited.replace('Three','3')\n",
    "countries_visited = pd.to_numeric(countries_visited)\n",
    "cleaned_class_df['countries'] = countries_visited\n"
   ]
  },
  {
   "cell_type": "code",
   "execution_count": 30,
   "metadata": {},
   "outputs": [],
   "source": [
    "books = class_df['How many books do you read per year?']\n",
    "\n",
    "books = books.str.strip('>')\n",
    "books = books.fillna(0)\n",
    "cleaned_class_df['books'] = [int(float(book)) for book in books]\n"
   ]
  },
  {
   "cell_type": "code",
   "execution_count": 31,
   "metadata": {},
   "outputs": [],
   "source": [
    "cleaned = class_df['What is the color of your toothbrush'].str.title().str.split().str.get(0)\n",
    "cleaned_class_df['toothbrush'] = cleaned\n"
   ]
  },
  {
   "cell_type": "code",
   "execution_count": 32,
   "metadata": {},
   "outputs": [],
   "source": [
    "stepswalked = class_df.iloc[:,6]\n",
    "stepswalked = stepswalked.str.lower().replace('idk','NaN')\n",
    "stepswalked = stepswalked.str.replace(',','').replace('not really sure','NaN').replace(np.nan,'NaN')\n",
    "cleaned_class_df['steps'] = [np.nan if steps == 'NaN' else int(steps) for steps in stepswalked]\n",
    "#cleaned_class_df['steps']"
   ]
  },
  {
   "cell_type": "code",
   "execution_count": 33,
   "metadata": {},
   "outputs": [],
   "source": [
    "\n",
    "new=class_df['How many hours of sleep do you get on average per night?'].dropna()\n",
    "avg = new.mean()\n",
    "new1 = class_df.iloc[:,2].replace(np.nan,avg)\n",
    "cleaned_class_df['sleepHours'] = new1\n"
   ]
  },
  {
   "cell_type": "code",
   "execution_count": 34,
   "metadata": {},
   "outputs": [],
   "source": [
    "social_media = class_df.iloc[:,-7]\n",
    "social_media= social_media.str.replace('2-Jan','2')\n",
    "social_media = social_media.astype(float)\n",
    "cleaned_class_df['socialMedia'] = social_media\n"
   ]
  },
  {
   "cell_type": "code",
   "execution_count": 35,
   "metadata": {},
   "outputs": [],
   "source": [
    "eat = class_df['How many times per week do you eat out?']\n",
    "eat1 = []\n",
    "eat2 = []\n",
    "eat3 = []\n",
    "for value in eat:\n",
    "    if value.isnumeric():\n",
    "        eat1.append(int(value))\n",
    "    else:\n",
    "        eat1.append(value)\n",
    "        eat2.append(value)\n",
    "\n",
    "eat1\n",
    "eat2\n",
    "\n",
    "for value in eat1:\n",
    "    if value == \"2-Jan\":\n",
    "        eat3.append(2)\n",
    "    elif value == \"0-2\":\n",
    "        eat3.append(1)\n",
    "    elif value == '0.25':\n",
    "        eat3.append(1)\n",
    "    elif value == '2.5':\n",
    "        eat3.append(3)\n",
    "    else:\n",
    "        eat3.append(value)\n",
    "\n",
    "eat = pd.Series(eat3)\n",
    "cleaned_class_df['eatOut'] = eat"
   ]
  },
  {
   "cell_type": "code",
   "execution_count": 36,
   "metadata": {},
   "outputs": [],
   "source": [
    "df = class_df['What is your favorite genre of music?']\n",
    "\n",
    "df = pd.Series([str(i)[str(i).find('(') + 1:str(i).find(')')] \n",
    "                if str(i).find('(') > 0 else i for i in df])\n",
    "df = df.str.capitalize().str.strip()\n",
    "df = df.fillna('No preference')\n",
    "cleaned_class_df['music'] = df"
   ]
  },
  {
   "cell_type": "code",
   "execution_count": 37,
   "metadata": {},
   "outputs": [
    {
     "name": "stdout",
     "output_type": "stream",
     "text": [
      "{'fall': 21, 'summer': 21, 'spring': 12, 'winter': 3}\n"
     ]
    }
   ],
   "source": [
    "season = class_df.iloc[:,-8]\n",
    "season = season.str.lower()\n",
    "season = season.str.strip()\n",
    "\n",
    "for s, sea in enumerate(season):\n",
    "    if sea == \"autumn\" or sea == 'nfl season':\n",
    "        season[s] = \"fall\"\n",
    "\n",
    "season_dict = season.value_counts().to_dict()\n",
    "print(season_dict)\n",
    "cleaned_class_df['season'] = season"
   ]
  },
  {
   "cell_type": "code",
   "execution_count": 38,
   "metadata": {},
   "outputs": [],
   "source": [
    "colors = class_df.iloc[:,1].str.lower().fillna('none')\n",
    "\n",
    "cleaned_class_df['favColor'] = [col if col.find('blue') < 0 else 'blue' for col in colors]\n",
    "#[col if col.find('blue') < 0 else 'blue' for col in colors]"
   ]
  },
  {
   "cell_type": "code",
   "execution_count": 39,
   "metadata": {},
   "outputs": [],
   "source": [
    "cleaned_class_df['waterCups'] = class_df.iloc[:,4]"
   ]
  },
  {
   "cell_type": "code",
   "execution_count": 40,
   "metadata": {},
   "outputs": [],
   "source": [
    "cleaned_class_df['languages'] = [int(num) for num in class_df.iloc[:, 7].str.replace('one','1').str.replace('Two','2').str.strip('<').str[0]]"
   ]
  },
  {
   "cell_type": "code",
   "execution_count": 41,
   "metadata": {},
   "outputs": [],
   "source": [
    "cleaned_class_df['siblings'] = [int(sib) for sib in class_df.iloc[:,-5].fillna(0)]"
   ]
  },
  {
   "cell_type": "code",
   "execution_count": 42,
   "metadata": {},
   "outputs": [],
   "source": [
    "cleaned_class_df['instruments'] = [int(inst) for inst in class_df.iloc[:,-4].fillna(0)]"
   ]
  },
  {
   "cell_type": "code",
   "execution_count": 43,
   "metadata": {},
   "outputs": [],
   "source": [
    "time = []\n",
    "for a in class_df.iloc[:,-3].str.lower().str.replace('morgnin', 'morning'):\n",
    "    if a.find('night') >= 0:\n",
    "        time.append('night')\n",
    "    elif a.find('morning') >= 0:\n",
    "        time.append('morning')\n",
    "    else:\n",
    "        time.append('both')\n",
    "cleaned_class_df['mornOrNight'] = time"
   ]
  },
  {
   "cell_type": "code",
   "execution_count": 44,
   "metadata": {},
   "outputs": [],
   "source": [
    "cleaned_class_df['pets'] = [int(pet) for pet in class_df.iloc[:,-2].fillna('0').str.replace('fish', '1').str.replace('zero','0')]"
   ]
  },
  {
   "cell_type": "code",
   "execution_count": 45,
   "metadata": {},
   "outputs": [
    {
     "data": {
      "text/html": [
       "<div>\n",
       "<style scoped>\n",
       "    .dataframe tbody tr th:only-of-type {\n",
       "        vertical-align: middle;\n",
       "    }\n",
       "\n",
       "    .dataframe tbody tr th {\n",
       "        vertical-align: top;\n",
       "    }\n",
       "\n",
       "    .dataframe thead th {\n",
       "        text-align: right;\n",
       "    }\n",
       "</style>\n",
       "<table border=\"1\" class=\"dataframe\">\n",
       "  <thead>\n",
       "    <tr style=\"text-align: right;\">\n",
       "      <th></th>\n",
       "      <th>favColor</th>\n",
       "      <th>sleepHours</th>\n",
       "      <th>toothbrush</th>\n",
       "      <th>waterCups</th>\n",
       "      <th>phoneType</th>\n",
       "      <th>steps</th>\n",
       "      <th>languages</th>\n",
       "      <th>countries</th>\n",
       "      <th>music</th>\n",
       "      <th>season</th>\n",
       "      <th>socialMedia</th>\n",
       "      <th>books</th>\n",
       "      <th>siblings</th>\n",
       "      <th>instruments</th>\n",
       "      <th>mornOrNight</th>\n",
       "      <th>pets</th>\n",
       "      <th>eatOut</th>\n",
       "    </tr>\n",
       "  </thead>\n",
       "  <tbody>\n",
       "    <tr>\n",
       "      <th>0</th>\n",
       "      <td>white</td>\n",
       "      <td>5.0</td>\n",
       "      <td>Purple</td>\n",
       "      <td>8</td>\n",
       "      <td>Android</td>\n",
       "      <td>300.0</td>\n",
       "      <td>2</td>\n",
       "      <td>5</td>\n",
       "      <td>Percussion</td>\n",
       "      <td>winter</td>\n",
       "      <td>3.0</td>\n",
       "      <td>2</td>\n",
       "      <td>1</td>\n",
       "      <td>2</td>\n",
       "      <td>night</td>\n",
       "      <td>0</td>\n",
       "      <td>3</td>\n",
       "    </tr>\n",
       "    <tr>\n",
       "      <th>1</th>\n",
       "      <td>blue</td>\n",
       "      <td>7.5</td>\n",
       "      <td>White</td>\n",
       "      <td>8</td>\n",
       "      <td>Apple</td>\n",
       "      <td>NaN</td>\n",
       "      <td>2</td>\n",
       "      <td>5</td>\n",
       "      <td>No preference</td>\n",
       "      <td>spring</td>\n",
       "      <td>0.0</td>\n",
       "      <td>3</td>\n",
       "      <td>6</td>\n",
       "      <td>3</td>\n",
       "      <td>morning</td>\n",
       "      <td>0</td>\n",
       "      <td>1</td>\n",
       "    </tr>\n",
       "    <tr>\n",
       "      <th>2</th>\n",
       "      <td>green</td>\n",
       "      <td>7.0</td>\n",
       "      <td>Green</td>\n",
       "      <td>8</td>\n",
       "      <td>Apple</td>\n",
       "      <td>10000.0</td>\n",
       "      <td>1</td>\n",
       "      <td>6</td>\n",
       "      <td>Classical</td>\n",
       "      <td>spring</td>\n",
       "      <td>2.0</td>\n",
       "      <td>15</td>\n",
       "      <td>3</td>\n",
       "      <td>0</td>\n",
       "      <td>morning</td>\n",
       "      <td>0</td>\n",
       "      <td>2</td>\n",
       "    </tr>\n",
       "    <tr>\n",
       "      <th>3</th>\n",
       "      <td>blue</td>\n",
       "      <td>7.5</td>\n",
       "      <td>Green</td>\n",
       "      <td>8</td>\n",
       "      <td>Apple</td>\n",
       "      <td>10000.0</td>\n",
       "      <td>1</td>\n",
       "      <td>4</td>\n",
       "      <td>Pop</td>\n",
       "      <td>spring</td>\n",
       "      <td>2.0</td>\n",
       "      <td>5</td>\n",
       "      <td>3</td>\n",
       "      <td>2</td>\n",
       "      <td>morning</td>\n",
       "      <td>0</td>\n",
       "      <td>2</td>\n",
       "    </tr>\n",
       "    <tr>\n",
       "      <th>4</th>\n",
       "      <td>blue</td>\n",
       "      <td>7.5</td>\n",
       "      <td>Pink</td>\n",
       "      <td>6</td>\n",
       "      <td>Apple</td>\n",
       "      <td>7000.0</td>\n",
       "      <td>2</td>\n",
       "      <td>13</td>\n",
       "      <td>No preference</td>\n",
       "      <td>fall</td>\n",
       "      <td>1.0</td>\n",
       "      <td>5</td>\n",
       "      <td>3</td>\n",
       "      <td>1</td>\n",
       "      <td>morning</td>\n",
       "      <td>0</td>\n",
       "      <td>1</td>\n",
       "    </tr>\n",
       "  </tbody>\n",
       "</table>\n",
       "</div>"
      ],
      "text/plain": [
       "  favColor  sleepHours toothbrush  waterCups phoneType    steps  languages  \\\n",
       "0    white         5.0     Purple          8   Android    300.0          2   \n",
       "1     blue         7.5      White          8     Apple      NaN          2   \n",
       "2    green         7.0      Green          8     Apple  10000.0          1   \n",
       "3     blue         7.5      Green          8     Apple  10000.0          1   \n",
       "4     blue         7.5       Pink          6     Apple   7000.0          2   \n",
       "\n",
       "   countries          music  season  socialMedia  books  siblings  \\\n",
       "0          5     Percussion  winter          3.0      2         1   \n",
       "1          5  No preference  spring          0.0      3         6   \n",
       "2          6      Classical  spring          2.0     15         3   \n",
       "3          4            Pop  spring          2.0      5         3   \n",
       "4         13  No preference    fall          1.0      5         3   \n",
       "\n",
       "   instruments mornOrNight  pets  eatOut  \n",
       "0            2       night     0       3  \n",
       "1            3     morning     0       1  \n",
       "2            0     morning     0       2  \n",
       "3            2     morning     0       2  \n",
       "4            1     morning     0       1  "
      ]
     },
     "execution_count": 45,
     "metadata": {},
     "output_type": "execute_result"
    }
   ],
   "source": [
    "cleaned_class_df.head()"
   ]
  },
  {
   "cell_type": "code",
   "execution_count": 46,
   "metadata": {},
   "outputs": [],
   "source": [
    "cleaned_class_df.to_csv('data/cleaned_class_data.csv', index=False)"
   ]
  },
  {
   "cell_type": "code",
   "execution_count": 47,
   "metadata": {},
   "outputs": [],
   "source": [
    "numerics = list(cleaned_class_df.dtypes[(cleaned_class_df.dtypes == 'int64') \n",
    "                                        | (cleaned_class_df.dtypes == 'float64')].index)"
   ]
  },
  {
   "cell_type": "code",
   "execution_count": 48,
   "metadata": {},
   "outputs": [
    {
     "data": {
      "text/html": [
       "<div>\n",
       "<style scoped>\n",
       "    .dataframe tbody tr th:only-of-type {\n",
       "        vertical-align: middle;\n",
       "    }\n",
       "\n",
       "    .dataframe tbody tr th {\n",
       "        vertical-align: top;\n",
       "    }\n",
       "\n",
       "    .dataframe thead th {\n",
       "        text-align: right;\n",
       "    }\n",
       "</style>\n",
       "<table border=\"1\" class=\"dataframe\">\n",
       "  <thead>\n",
       "    <tr style=\"text-align: right;\">\n",
       "      <th></th>\n",
       "      <th>sleepHours</th>\n",
       "      <th>waterCups</th>\n",
       "      <th>steps</th>\n",
       "      <th>languages</th>\n",
       "      <th>countries</th>\n",
       "      <th>socialMedia</th>\n",
       "      <th>books</th>\n",
       "      <th>siblings</th>\n",
       "      <th>instruments</th>\n",
       "      <th>pets</th>\n",
       "      <th>eatOut</th>\n",
       "    </tr>\n",
       "  </thead>\n",
       "  <tbody>\n",
       "    <tr>\n",
       "      <th>sleepHours</th>\n",
       "      <td>1.000000</td>\n",
       "      <td>-0.085414</td>\n",
       "      <td>0.054442</td>\n",
       "      <td>0.107569</td>\n",
       "      <td>0.239089</td>\n",
       "      <td>-0.162430</td>\n",
       "      <td>-0.054299</td>\n",
       "      <td>-0.058832</td>\n",
       "      <td>-0.008768</td>\n",
       "      <td>0.028350</td>\n",
       "      <td>-0.059562</td>\n",
       "    </tr>\n",
       "    <tr>\n",
       "      <th>waterCups</th>\n",
       "      <td>-0.085414</td>\n",
       "      <td>1.000000</td>\n",
       "      <td>0.162138</td>\n",
       "      <td>-0.035364</td>\n",
       "      <td>-0.056466</td>\n",
       "      <td>0.006311</td>\n",
       "      <td>0.073540</td>\n",
       "      <td>0.206523</td>\n",
       "      <td>-0.039350</td>\n",
       "      <td>0.052267</td>\n",
       "      <td>0.179596</td>\n",
       "    </tr>\n",
       "    <tr>\n",
       "      <th>steps</th>\n",
       "      <td>0.054442</td>\n",
       "      <td>0.162138</td>\n",
       "      <td>1.000000</td>\n",
       "      <td>-0.179815</td>\n",
       "      <td>0.021768</td>\n",
       "      <td>-0.024477</td>\n",
       "      <td>0.008331</td>\n",
       "      <td>0.310545</td>\n",
       "      <td>-0.059160</td>\n",
       "      <td>-0.109646</td>\n",
       "      <td>-0.009476</td>\n",
       "    </tr>\n",
       "    <tr>\n",
       "      <th>languages</th>\n",
       "      <td>0.107569</td>\n",
       "      <td>-0.035364</td>\n",
       "      <td>-0.179815</td>\n",
       "      <td>1.000000</td>\n",
       "      <td>0.403096</td>\n",
       "      <td>-0.047323</td>\n",
       "      <td>-0.166022</td>\n",
       "      <td>0.020271</td>\n",
       "      <td>0.141084</td>\n",
       "      <td>0.097892</td>\n",
       "      <td>-0.044662</td>\n",
       "    </tr>\n",
       "    <tr>\n",
       "      <th>countries</th>\n",
       "      <td>0.239089</td>\n",
       "      <td>-0.056466</td>\n",
       "      <td>0.021768</td>\n",
       "      <td>0.403096</td>\n",
       "      <td>1.000000</td>\n",
       "      <td>0.026848</td>\n",
       "      <td>0.001403</td>\n",
       "      <td>-0.167453</td>\n",
       "      <td>0.027176</td>\n",
       "      <td>-0.077721</td>\n",
       "      <td>0.185580</td>\n",
       "    </tr>\n",
       "    <tr>\n",
       "      <th>socialMedia</th>\n",
       "      <td>-0.162430</td>\n",
       "      <td>0.006311</td>\n",
       "      <td>-0.024477</td>\n",
       "      <td>-0.047323</td>\n",
       "      <td>0.026848</td>\n",
       "      <td>1.000000</td>\n",
       "      <td>-0.104177</td>\n",
       "      <td>-0.202236</td>\n",
       "      <td>-0.140059</td>\n",
       "      <td>-0.114288</td>\n",
       "      <td>0.038014</td>\n",
       "    </tr>\n",
       "    <tr>\n",
       "      <th>books</th>\n",
       "      <td>-0.054299</td>\n",
       "      <td>0.073540</td>\n",
       "      <td>0.008331</td>\n",
       "      <td>-0.166022</td>\n",
       "      <td>0.001403</td>\n",
       "      <td>-0.104177</td>\n",
       "      <td>1.000000</td>\n",
       "      <td>0.005245</td>\n",
       "      <td>-0.093380</td>\n",
       "      <td>0.242373</td>\n",
       "      <td>-0.085521</td>\n",
       "    </tr>\n",
       "    <tr>\n",
       "      <th>siblings</th>\n",
       "      <td>-0.058832</td>\n",
       "      <td>0.206523</td>\n",
       "      <td>0.310545</td>\n",
       "      <td>0.020271</td>\n",
       "      <td>-0.167453</td>\n",
       "      <td>-0.202236</td>\n",
       "      <td>0.005245</td>\n",
       "      <td>1.000000</td>\n",
       "      <td>0.083756</td>\n",
       "      <td>0.019827</td>\n",
       "      <td>-0.152346</td>\n",
       "    </tr>\n",
       "    <tr>\n",
       "      <th>instruments</th>\n",
       "      <td>-0.008768</td>\n",
       "      <td>-0.039350</td>\n",
       "      <td>-0.059160</td>\n",
       "      <td>0.141084</td>\n",
       "      <td>0.027176</td>\n",
       "      <td>-0.140059</td>\n",
       "      <td>-0.093380</td>\n",
       "      <td>0.083756</td>\n",
       "      <td>1.000000</td>\n",
       "      <td>0.028495</td>\n",
       "      <td>-0.058466</td>\n",
       "    </tr>\n",
       "    <tr>\n",
       "      <th>pets</th>\n",
       "      <td>0.028350</td>\n",
       "      <td>0.052267</td>\n",
       "      <td>-0.109646</td>\n",
       "      <td>0.097892</td>\n",
       "      <td>-0.077721</td>\n",
       "      <td>-0.114288</td>\n",
       "      <td>0.242373</td>\n",
       "      <td>0.019827</td>\n",
       "      <td>0.028495</td>\n",
       "      <td>1.000000</td>\n",
       "      <td>-0.063941</td>\n",
       "    </tr>\n",
       "    <tr>\n",
       "      <th>eatOut</th>\n",
       "      <td>-0.059562</td>\n",
       "      <td>0.179596</td>\n",
       "      <td>-0.009476</td>\n",
       "      <td>-0.044662</td>\n",
       "      <td>0.185580</td>\n",
       "      <td>0.038014</td>\n",
       "      <td>-0.085521</td>\n",
       "      <td>-0.152346</td>\n",
       "      <td>-0.058466</td>\n",
       "      <td>-0.063941</td>\n",
       "      <td>1.000000</td>\n",
       "    </tr>\n",
       "  </tbody>\n",
       "</table>\n",
       "</div>"
      ],
      "text/plain": [
       "             sleepHours  waterCups     steps  languages  countries  \\\n",
       "sleepHours     1.000000  -0.085414  0.054442   0.107569   0.239089   \n",
       "waterCups     -0.085414   1.000000  0.162138  -0.035364  -0.056466   \n",
       "steps          0.054442   0.162138  1.000000  -0.179815   0.021768   \n",
       "languages      0.107569  -0.035364 -0.179815   1.000000   0.403096   \n",
       "countries      0.239089  -0.056466  0.021768   0.403096   1.000000   \n",
       "socialMedia   -0.162430   0.006311 -0.024477  -0.047323   0.026848   \n",
       "books         -0.054299   0.073540  0.008331  -0.166022   0.001403   \n",
       "siblings      -0.058832   0.206523  0.310545   0.020271  -0.167453   \n",
       "instruments   -0.008768  -0.039350 -0.059160   0.141084   0.027176   \n",
       "pets           0.028350   0.052267 -0.109646   0.097892  -0.077721   \n",
       "eatOut        -0.059562   0.179596 -0.009476  -0.044662   0.185580   \n",
       "\n",
       "             socialMedia     books  siblings  instruments      pets    eatOut  \n",
       "sleepHours     -0.162430 -0.054299 -0.058832    -0.008768  0.028350 -0.059562  \n",
       "waterCups       0.006311  0.073540  0.206523    -0.039350  0.052267  0.179596  \n",
       "steps          -0.024477  0.008331  0.310545    -0.059160 -0.109646 -0.009476  \n",
       "languages      -0.047323 -0.166022  0.020271     0.141084  0.097892 -0.044662  \n",
       "countries       0.026848  0.001403 -0.167453     0.027176 -0.077721  0.185580  \n",
       "socialMedia     1.000000 -0.104177 -0.202236    -0.140059 -0.114288  0.038014  \n",
       "books          -0.104177  1.000000  0.005245    -0.093380  0.242373 -0.085521  \n",
       "siblings       -0.202236  0.005245  1.000000     0.083756  0.019827 -0.152346  \n",
       "instruments    -0.140059 -0.093380  0.083756     1.000000  0.028495 -0.058466  \n",
       "pets           -0.114288  0.242373  0.019827     0.028495  1.000000 -0.063941  \n",
       "eatOut          0.038014 -0.085521 -0.152346    -0.058466 -0.063941  1.000000  "
      ]
     },
     "execution_count": 48,
     "metadata": {},
     "output_type": "execute_result"
    }
   ],
   "source": [
    "cleaned_class_df[numerics].corr()"
   ]
  },
  {
   "cell_type": "code",
   "execution_count": 61,
   "metadata": {},
   "outputs": [
    {
     "data": {
      "image/png": "[encoded data removed]",
      "text/plain": [
       "<Figure size 640x480 with 1 Axes>"
      ]
     },
     "metadata": {},
     "output_type": "display_data"
    }
   ],
   "source": [
    "from matplotlib import pyplot as plt\n",
    "from scipy import stats\n",
    "\n",
    "plt.scatter(cleaned_class_df.socialMedia, cleaned_class_df.sleepHours);"
   ]
  },
  {
   "cell_type": "code",
   "execution_count": 50,
   "metadata": {},
   "outputs": [
    {
     "data": {
      "text/plain": [
       "PearsonRResult(statistic=-0.1624298087940876, pvalue=0.22736061462180684)"
      ]
     },
     "execution_count": 50,
     "metadata": {},
     "output_type": "execute_result"
    }
   ],
   "source": [
    "stats.pearsonr(cleaned_class_df.socialMedia, cleaned_class_df.sleepHours)"
   ]
  },
  {
   "cell_type": "code",
   "execution_count": 51,
   "metadata": {},
   "outputs": [
    {
     "data": {
      "text/plain": [
       "PearsonRResult(statistic=0.4030957209241812, pvalue=0.001877586997492103)"
      ]
     },
     "execution_count": 51,
     "metadata": {},
     "output_type": "execute_result"
    }
   ],
   "source": [
    "stats.pearsonr(cleaned_class_df.languages, cleaned_class_df.countries)"
   ]
  },
  {
   "cell_type": "code",
   "execution_count": 60,
   "metadata": {},
   "outputs": [
    {
     "name": "stdout",
     "output_type": "stream",
     "text": [
      "PearsonRResult(statistic=0.2423732976551357, pvalue=0.06928935007674598)\n"
     ]
    },
    {
     "data": {
      "image/png": "[encoded data removed]",
      "text/plain": [
       "<Figure size 640x480 with 1 Axes>"
      ]
     },
     "metadata": {},
     "output_type": "display_data"
    }
   ],
   "source": [
    "print(stats.pearsonr(cleaned_class_df.pets, cleaned_class_df.books))\n",
    "plt.scatter(cleaned_class_df.pets, cleaned_class_df.books);\n"
   ]
  },
  {
   "cell_type": "code",
   "execution_count": 53,
   "metadata": {},
   "outputs": [],
   "source": [
    "nonulls = cleaned_class_df.dropna()"
   ]
  },
  {
   "cell_type": "code",
   "execution_count": 59,
   "metadata": {},
   "outputs": [
    {
     "name": "stdout",
     "output_type": "stream",
     "text": [
      "PearsonRResult(statistic=0.31054477623639326, pvalue=0.0426840620971659)\n"
     ]
    },
    {
     "data": {
      "image/png": "[encoded data removed]",
      "text/plain": [
       "<Figure size 640x480 with 1 Axes>"
      ]
     },
     "metadata": {},
     "output_type": "display_data"
    }
   ],
   "source": [
    "print(stats.pearsonr(nonulls.siblings, nonulls.steps))\n",
    "plt.scatter(nonulls.siblings, nonulls.steps);"
   ]
  },
  {
   "cell_type": "code",
   "execution_count": 58,
   "metadata": {},
   "outputs": [
    {
     "name": "stdout",
     "output_type": "stream",
     "text": [
      "PearsonRResult(statistic=0.16213792012371306, pvalue=0.29891034973771646)\n"
     ]
    },
    {
     "data": {
      "image/png": "[encoded data removed]",
      "text/plain": [
       "<Figure size 640x480 with 1 Axes>"
      ]
     },
     "metadata": {},
     "output_type": "display_data"
    }
   ],
   "source": [
    "print(stats.pearsonr(nonulls.waterCups, nonulls.steps))\n",
    "plt.scatter(nonulls.waterCups, nonulls.steps);\n"
   ]
  },
  {
   "cell_type": "code",
   "execution_count": 57,
   "metadata": {},
   "outputs": [
    {
     "name": "stdout",
     "output_type": "stream",
     "text": [
      "PearsonRResult(statistic=-0.20223563262292768, pvalue=0.1313867712861367)\n"
     ]
    },
    {
     "data": {
      "image/png": "[encoded data removed]",
      "text/plain": [
       "<Figure size 640x480 with 1 Axes>"
      ]
     },
     "metadata": {},
     "output_type": "display_data"
    }
   ],
   "source": [
    "print(stats.pearsonr(cleaned_class_df.siblings, cleaned_class_df.socialMedia))\n",
    "plt.scatter(cleaned_class_df.siblings, cleaned_class_df.socialMedia);"
   ]
  }
 ],
 "metadata": {
  "kernelspec": {
   "display_name": "Python 3",
   "language": "python",
   "name": "python3"
  },
  "language_info": {
   "codemirror_mode": {
    "name": "ipython",
    "version": 3
   },
   "file_extension": ".py",
   "mimetype": "text/x-python",
   "name": "python",
   "nbconvert_exporter": "python",
   "pygments_lexer": "ipython3",
   "version": "3.11.7"
  }
 },
 "nbformat": 4,
 "nbformat_minor": 2
}
