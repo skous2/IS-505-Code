{
 "cells": [
  {
   "cell_type": "markdown",
   "metadata": {},
   "source": [
    "# Day 1 - Markdown"
   ]
  },
  {
   "cell_type": "markdown",
   "metadata": {},
   "source": [
    "[Mastering Markdown](https://guides.github.com/features/mastering-markdown/)\n",
    "\n",
    "Markdown is a way to style text on the web. You control the display of the document; formatting words as bold or italic, adding images, and creating lists are just a few of the things we can do with Markdown. Mostly, Markdown is just regular text with a few non-alphabetic characters thrown in, like `#` or `*`."
   ]
  },
  {
   "cell_type": "code",
   "execution_count": 2,
   "metadata": {},
   "outputs": [
    {
     "data": {
      "text/plain": [
       "3"
      ]
     },
     "execution_count": 2,
     "metadata": {},
     "output_type": "execute_result"
    }
   ],
   "source": [
    "#Python cells\n",
    "1+2"
   ]
  },
  {
   "cell_type": "markdown",
   "metadata": {},
   "source": [
    "*Markdown*\n",
    "\n",
    "1+2"
   ]
  },
  {
   "cell_type": "markdown",
   "metadata": {},
   "source": [
    "# Text\n",
    "\n",
    "We are learning markdown\n",
    "## Second Text\n",
    "### Third Text\n",
    "\n",
    "It's very easy to make some words **bold** and other words *italic* with **Markdown**. You can even [link to Google!](http://google.com)"
   ]
  },
  {
   "cell_type": "markdown",
   "metadata": {},
   "source": [
    "# Lists\n",
    "\n",
    "Sometimes you want numbered lists:\n",
    "\n",
    "1. One\n",
    "2. Two\n",
    "3. Three\n",
    "\n",
    "Sometimes you want bullet points:\n",
    "\n",
    "* Start a line with a star\n",
    "* Profit!\n",
    "- Bullet\n",
    "+ Different Bullet\n",
    "+ Same?\n",
    "\n",
    "Alternatively,\n",
    "\n",
    "- Dashes work just as well\n",
    "- And if you have sub points, put two spaces before the dash or star:\n",
    "  - Like this\n",
    "  - And this\n",
    "  - New list\n",
    "    - A third? No way!\n"
   ]
  },
  {
   "cell_type": "markdown",
   "metadata": {},
   "source": [
    "# Images\n",
    "\n",
    "If you want to embed images, this is how you do it:\n",
    "\n",
    "![Image of BYU Football Schedule](https://big12sports.com/images/2023/9/25/b12_mbb_schedule_grid_JM_1_00_1_.png?width=1440&quality=80%)\n"
   ]
  },
  {
   "cell_type": "markdown",
   "metadata": {},
   "source": [
    "# Headers & Quotes\n",
    "\n",
    "Sometimes it's useful to have different levels of headings to structure your documents. Start lines with a `#` to create headings. Multiple `##` in a row denote smaller heading sizes.\n",
    "\n",
    "### This is a third-tier heading\n",
    "\n",
    "You can use one `#` all the way up to `######` six for different heading sizes.\n",
    "\n",
    "If you'd like to quote someone, use the > character before the line:\n",
    "\n",
    "> You have your agency to choose contention or reconciliation. I urge you to choose to be a peacemaker, now and always.\n",
    "> - President Russell M. Nelson"
   ]
  },
  {
   "cell_type": "markdown",
   "metadata": {},
   "source": [
    "# Math\n",
    "\n",
    "$e=mc^2$\n",
    "\n",
    "\\begin{align*}\n",
    "  f(x) &= x^2\\\\\n",
    "  g(x) &= \\frac{1}{x}\\\\\n",
    "  F(x) &= \\int^a_b \\frac{1}{3}x^3\n",
    "\\end{align*}"
   ]
  }
 ],
 "metadata": {
  "kernelspec": {
   "display_name": "Python 3",
   "language": "python",
   "name": "python3"
  },
  "language_info": {
   "codemirror_mode": {
    "name": "ipython",
    "version": 3
   },
   "file_extension": ".py",
   "mimetype": "text/x-python",
   "name": "python",
   "nbconvert_exporter": "python",
   "pygments_lexer": "ipython3",
   "version": "3.10.12"
  }
 },
 "nbformat": 4,
 "nbformat_minor": 2
}
