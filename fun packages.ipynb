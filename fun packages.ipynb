{
 "cells": [
  {
   "cell_type": "code",
   "execution_count": 1,
   "metadata": {},
   "outputs": [],
   "source": [
    "import turtle"
   ]
  },
  {
   "cell_type": "code",
   "execution_count": 2,
   "metadata": {},
   "outputs": [],
   "source": [
    "wn = turtle.Screen()\n",
    "wn.bgcolor(\"light blue\")\n",
    "wn.title(\"Turtle\")\n",
    "skk = turtle.Turtle()\n",
    "\n",
    "skk.forward(100)\n",
    "skk.right(90)\n",
    "skk.forward(100)\n",
    "\n",
    "turtle.done()\n",
    "turtle.Screen().bye()"
   ]
  },
  {
   "cell_type": "code",
   "execution_count": 3,
   "metadata": {},
   "outputs": [],
   "source": [
    "import antigravity"
   ]
  },
  {
   "cell_type": "code",
   "execution_count": 5,
   "metadata": {},
   "outputs": [
    {
     "name": "stdout",
     "output_type": "stream",
     "text": [
      "Collecting cowsay\n",
      "  Downloading cowsay-6.1-py3-none-any.whl.metadata (5.6 kB)\n",
      "Downloading cowsay-6.1-py3-none-any.whl (25 kB)\n",
      "Installing collected packages: cowsay\n",
      "Successfully installed cowsay-6.1\n"
     ]
    }
   ],
   "source": [
    "!pip install cowsay"
   ]
  },
  {
   "cell_type": "code",
   "execution_count": 6,
   "metadata": {},
   "outputs": [
    {
     "name": "stdout",
     "output_type": "stream",
     "text": [
      "  _________\n",
      "| Hi class! |\n",
      "  =========\n",
      "         \\\n",
      "          \\\n",
      "            ^__^\n",
      "            (oo)\\_______\n",
      "            (__)\\       )\\/\\\n",
      "                ||----w |\n",
      "                ||     ||\n"
     ]
    }
   ],
   "source": [
    "import cowsay\n",
    "cowsay.cow('Hi class!')"
   ]
  },
  {
   "cell_type": "code",
   "execution_count": 7,
   "metadata": {},
   "outputs": [
    {
     "ename": "SyntaxError",
     "evalue": "invalid syntax (2201599015.py, line 1)",
     "output_type": "error",
     "traceback": [
      "\u001b[1;36m  Cell \u001b[1;32mIn[7], line 1\u001b[1;36m\u001b[0m\n\u001b[1;33m    cowsay.\u001b[0m\n\u001b[1;37m           ^\u001b[0m\n\u001b[1;31mSyntaxError\u001b[0m\u001b[1;31m:\u001b[0m invalid syntax\n"
     ]
    }
   ],
   "source": [
    "cowsay."
   ]
  },
  {
   "cell_type": "code",
   "execution_count": 8,
   "metadata": {},
   "outputs": [
    {
     "name": "stdout",
     "output_type": "stream",
     "text": [
      "  ____________\n",
      "| Hi everyone! |\n",
      "  ============\n",
      "              \\\n",
      "               \\\n",
      "                \\\n",
      "                 \\\n",
      "                                       / \\\\  //\\\\\n",
      "                        |\\\\___/|      /   \\\\//  \\\\\\\\\n",
      "                        /0  0  \\\\__  /    //  | \\\\ \\\\\n",
      "                       /     /  \\\\/_/    //   |  \\\\  \\\\\n",
      "                       \\@_^_\\@'/   \\\\/_   //    |   \\\\   \\\\\n",
      "                       //_^_/     \\\\/_ //     |    \\\\    \\\\\n",
      "                    ( //) |        \\\\///      |     \\\\     \\\\\n",
      "                  ( / /) _|_ /   )  //       |      \\\\     _\\\\\n",
      "                ( // /) '/,_ _ _/  ( ; -.    |    _ _\\\\.-~        .-~~~^-.\n",
      "              (( / / )) ,-{        _      `-.|.-~-.           .~         `.\n",
      "             (( // / ))  '/\\\\      /                 ~-. _ .-~      .-~^-.  \\\\\n",
      "             (( /// ))      `.   {            }                   /      \\\\  \\\\\n",
      "              (( / ))     .----~-.\\\\        \\\\-'                 .~         \\\\  `. \\\\^-.\n",
      "                         ///.----..>        \\\\             _ -~             `.  ^-`  ^-_\n",
      "                           ///-._ _ _ _ _ _ _}^ - - - - ~                     ~-- ,.-~\n",
      "                                                                              /.-~\n"
     ]
    }
   ],
   "source": [
    "cowsay.dragon('Hi everyone!')"
   ]
  },
  {
   "cell_type": "code",
   "execution_count": 7,
   "metadata": {},
   "outputs": [
    {
     "name": "stdout",
     "output_type": "stream",
     "text": [
      "  __________________\n",
      "| I have stubby arms |\n",
      "  ==================\n",
      "                         \\\n",
      "                          \\\n",
      "                           \\\n",
      "                            \\\n",
      "                               .-=-==--==--.\n",
      "                         ..-==\"  ,'o`)      `.\n",
      "                       ,'         `\"'         \\\n",
      "                      :  (                     `.__...._\n",
      "                      |                  )    /         `-=-.\n",
      "                      :       ,vv.-._   /    /               `---==-._\n",
      "                       \\/\\/\\/VV ^ d88`;'    /                         `.\n",
      "                           ``  ^/d88P!'    /             ,              `._\n",
      "                              ^/    !'   ,.      ,      /                  \"-,,__,,--'\"\"\"\"-.\n",
      "                             ^/    !'  ,'  \\ . .(      (         _           )  ) ) ) ))_,-.\\\n",
      "                            ^(__ ,!',\"'   ;:+.:%:a.     \\:.. . ,'          )  )  ) ) ,\"'    '\n",
      "                            ',,,'','     /o:::\":%:%a.    \\:.:.:         .    )  ) _,'\n",
      "                             \"\"\"'       ;':::'' `+%%%a._  \\%:%|         ;.). _,-\"\"\n",
      "                                    ,-='_.-'      ``:%::)  )%:|        /:._,\"\n",
      "                                   (/(/\"           ,\" ,'_,'%%%:       (_,'\n",
      "                                                  (  (//(`.___;        \\\n",
      "                                                   \\     \\    `         `\n",
      "                                                    `.    `.   `.        :\n",
      "                                                      \\. . .\\    : . . . :\n",
      "                                                       \\. . .:    `.. . .:\n",
      "                                                        `..:.:\\     \\:...\\\n",
      "                                                         ;:.:.;      ::...:\n",
      "                                                         ):%::       :::::;\n",
      "                                                     __,::%:(        :::::\n",
      "                                                  ,;:%%%%%%%:        ;:%::\n",
      "                                                    ;,--\"\"-.`\\  ,=--':%:%:\\\n",
      "                                                   /\"       \"| /-\".:%%%%%%%\\\n",
      "                                                                   ;,-\"'`)%%)\n",
      "                                                                  /\"      \"|\n"
     ]
    }
   ],
   "source": [
    "cowsay.trex('I have stubby arms')"
   ]
  },
  {
   "cell_type": "code",
   "execution_count": 9,
   "metadata": {},
   "outputs": [
    {
     "name": "stdout",
     "output_type": "stream",
     "text": [
      "Collecting pyjokes\n",
      "  Downloading pyjokes-0.6.0-py2.py3-none-any.whl (26 kB)\n",
      "Installing collected packages: pyjokes\n",
      "Successfully installed pyjokes-0.6.0\n"
     ]
    }
   ],
   "source": [
    "!pip install pyjokes"
   ]
  },
  {
   "cell_type": "code",
   "execution_count": 10,
   "metadata": {},
   "outputs": [
    {
     "data": {
      "text/plain": [
       "'Optimist: The glass is half full. Pessimist: The glass is half empty. Programmer: The glass is twice as large as necessary.'"
      ]
     },
     "execution_count": 10,
     "metadata": {},
     "output_type": "execute_result"
    }
   ],
   "source": [
    "import pyjokes\n",
    "pyjokes.get_joke()"
   ]
  },
  {
   "cell_type": "code",
   "execution_count": null,
   "metadata": {},
   "outputs": [],
   "source": [
    "import pandas as pd"
   ]
  },
  {
   "cell_type": "code",
   "execution_count": null,
   "metadata": {},
   "outputs": [],
   "source": [
    "import tensorflow"
   ]
  }
 ],
 "metadata": {
  "kernelspec": {
   "display_name": "base",
   "language": "python",
   "name": "python3"
  },
  "language_info": {
   "codemirror_mode": {
    "name": "ipython",
    "version": 3
   },
   "file_extension": ".py",
   "mimetype": "text/x-python",
   "name": "python",
   "nbconvert_exporter": "python",
   "pygments_lexer": "ipython3",
   "version": "3.11.7"
  },
  "orig_nbformat": 4
 },
 "nbformat": 4,
 "nbformat_minor": 2
}
