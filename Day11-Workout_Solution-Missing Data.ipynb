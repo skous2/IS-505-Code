{
 "cells": [
  {
   "cell_type": "markdown",
   "metadata": {},
   "source": [
    "# Day 11 Workout - Missing Data"
   ]
  },
  {
   "cell_type": "code",
   "execution_count": 64,
   "metadata": {},
   "outputs": [],
   "source": [
    "import pandas as pd\n",
    "import numpy as np"
   ]
  },
  {
   "cell_type": "markdown",
   "metadata": {},
   "source": [
    "The file `gapminder_with_missing.tsv` contains missing values indicated by `-1`"
   ]
  },
  {
   "cell_type": "code",
   "execution_count": 65,
   "metadata": {},
   "outputs": [],
   "source": [
    "data = pd.read_csv('data/gapminder_with_missing.tsv', sep='\\t')"
   ]
  },
  {
   "cell_type": "code",
   "execution_count": 66,
   "metadata": {},
   "outputs": [
    {
     "data": {
      "text/html": [
       "<div>\n",
       "<style scoped>\n",
       "    .dataframe tbody tr th:only-of-type {\n",
       "        vertical-align: middle;\n",
       "    }\n",
       "\n",
       "    .dataframe tbody tr th {\n",
       "        vertical-align: top;\n",
       "    }\n",
       "\n",
       "    .dataframe thead th {\n",
       "        text-align: right;\n",
       "    }\n",
       "</style>\n",
       "<table border=\"1\" class=\"dataframe\">\n",
       "  <thead>\n",
       "    <tr style=\"text-align: right;\">\n",
       "      <th></th>\n",
       "      <th>country</th>\n",
       "      <th>continent</th>\n",
       "      <th>year</th>\n",
       "      <th>lifeExp</th>\n",
       "      <th>pop</th>\n",
       "      <th>gdpPercap</th>\n",
       "    </tr>\n",
       "  </thead>\n",
       "  <tbody>\n",
       "    <tr>\n",
       "      <th>0</th>\n",
       "      <td>Afghanistan</td>\n",
       "      <td>Asia</td>\n",
       "      <td>1952</td>\n",
       "      <td>28.801</td>\n",
       "      <td>8425333</td>\n",
       "      <td>779.445314</td>\n",
       "    </tr>\n",
       "    <tr>\n",
       "      <th>1</th>\n",
       "      <td>Afghanistan</td>\n",
       "      <td>Asia</td>\n",
       "      <td>1957</td>\n",
       "      <td>30.332</td>\n",
       "      <td>9240934</td>\n",
       "      <td>820.853030</td>\n",
       "    </tr>\n",
       "    <tr>\n",
       "      <th>2</th>\n",
       "      <td>Afghanistan</td>\n",
       "      <td>Asia</td>\n",
       "      <td>1962</td>\n",
       "      <td>31.997</td>\n",
       "      <td>10267083</td>\n",
       "      <td>-1.000000</td>\n",
       "    </tr>\n",
       "    <tr>\n",
       "      <th>3</th>\n",
       "      <td>Afghanistan</td>\n",
       "      <td>Asia</td>\n",
       "      <td>1967</td>\n",
       "      <td>34.020</td>\n",
       "      <td>11537966</td>\n",
       "      <td>836.197138</td>\n",
       "    </tr>\n",
       "    <tr>\n",
       "      <th>4</th>\n",
       "      <td>Afghanistan</td>\n",
       "      <td>Asia</td>\n",
       "      <td>1972</td>\n",
       "      <td>36.088</td>\n",
       "      <td>13079460</td>\n",
       "      <td>739.981106</td>\n",
       "    </tr>\n",
       "  </tbody>\n",
       "</table>\n",
       "</div>"
      ],
      "text/plain": [
       "       country continent  year  lifeExp       pop   gdpPercap\n",
       "0  Afghanistan      Asia  1952   28.801   8425333  779.445314\n",
       "1  Afghanistan      Asia  1957   30.332   9240934  820.853030\n",
       "2  Afghanistan      Asia  1962   31.997  10267083   -1.000000\n",
       "3  Afghanistan      Asia  1967   34.020  11537966  836.197138\n",
       "4  Afghanistan      Asia  1972   36.088  13079460  739.981106"
      ]
     },
     "execution_count": 66,
     "metadata": {},
     "output_type": "execute_result"
    }
   ],
   "source": [
    "data.head()"
   ]
  },
  {
   "cell_type": "markdown",
   "metadata": {},
   "source": [
    "Calculate the average `lifeExp`, `pop`, and `gdpPercap`"
   ]
  },
  {
   "cell_type": "code",
   "execution_count": 67,
   "metadata": {},
   "outputs": [
    {
     "name": "stdout",
     "output_type": "stream",
     "text": [
      "55.81203833333334\n",
      "27992515.794014085\n",
      "6833.852739445188\n"
     ]
    }
   ],
   "source": [
    "aveLifeExp = data.lifeExp.mean()\n",
    "avepop = data['pop'].mean()\n",
    "aveGDP = data.gdpPercap.mean()\n",
    "\n",
    "print(aveLifeExp)\n",
    "print(avepop)\n",
    "print(aveGDP)"
   ]
  },
  {
   "cell_type": "markdown",
   "metadata": {},
   "source": [
    "The values you calculated are not accurate because `-1` was included in the calculation. However, `-1` is used in the file to indicate the entry is missing. Let us deal with that."
   ]
  },
  {
   "cell_type": "markdown",
   "metadata": {},
   "source": [
    "Replace all `-1` with `NaN` *HINT* uses the function replace, i.e., `data.replace(...)`"
   ]
  },
  {
   "cell_type": "code",
   "execution_count": 68,
   "metadata": {},
   "outputs": [],
   "source": [
    "data.replace(-1,np.nan, inplace=True)"
   ]
  },
  {
   "cell_type": "markdown",
   "metadata": {},
   "source": [
    "Calculate the average `lifeExp`, `pop`, and `gdpPercap` again"
   ]
  },
  {
   "cell_type": "code",
   "execution_count": 69,
   "metadata": {},
   "outputs": [
    {
     "name": "stdout",
     "output_type": "stream",
     "text": [
      "59.391586600124775\n",
      "29774810.870786518\n",
      "7201.590641938527\n"
     ]
    }
   ],
   "source": [
    "aveLifeExp = data.lifeExp.mean()\n",
    "avepop = data['pop'].mean()\n",
    "aveGDP = data.gdpPercap.mean()\n",
    "\n",
    "print(aveLifeExp)\n",
    "print(avepop)\n",
    "print(aveGDP)"
   ]
  },
  {
   "cell_type": "markdown",
   "metadata": {},
   "source": [
    "What are the rows that contain missing values?\n",
    "- Hint, think of comparing the indices of `data` and `data.dropna()`"
   ]
  },
  {
   "cell_type": "code",
   "execution_count": 70,
   "metadata": {},
   "outputs": [
    {
     "data": {
      "text/plain": [
       "[2,\n",
       " 7,\n",
       " 29,\n",
       " 32,\n",
       " 39,\n",
       " 42,\n",
       " 45,\n",
       " 58,\n",
       " 61,\n",
       " 68,\n",
       " 69,\n",
       " 73,\n",
       " 79,\n",
       " 83,\n",
       " 101,\n",
       " 102,\n",
       " 104,\n",
       " 113,\n",
       " 114,\n",
       " 127,\n",
       " 129,\n",
       " 145,\n",
       " 147,\n",
       " 154,\n",
       " 158,\n",
       " 159,\n",
       " 161,\n",
       " 169,\n",
       " 173,\n",
       " 178,\n",
       " 179,\n",
       " 185,\n",
       " 189,\n",
       " 190,\n",
       " 192,\n",
       " 196,\n",
       " 197,\n",
       " 200,\n",
       " 209,\n",
       " 210,\n",
       " 224,\n",
       " 226,\n",
       " 240,\n",
       " 243,\n",
       " 245,\n",
       " 253,\n",
       " 259,\n",
       " 261,\n",
       " 268,\n",
       " 276,\n",
       " 283,\n",
       " 286,\n",
       " 293,\n",
       " 297,\n",
       " 309,\n",
       " 320,\n",
       " 321,\n",
       " 328,\n",
       " 338,\n",
       " 340,\n",
       " 342,\n",
       " 354,\n",
       " 358,\n",
       " 374,\n",
       " 380,\n",
       " 391,\n",
       " 401,\n",
       " 410,\n",
       " 416,\n",
       " 424,\n",
       " 430,\n",
       " 431,\n",
       " 433,\n",
       " 438,\n",
       " 448,\n",
       " 452,\n",
       " 470,\n",
       " 475,\n",
       " 480,\n",
       " 492,\n",
       " 495,\n",
       " 498,\n",
       " 501,\n",
       " 502,\n",
       " 503,\n",
       " 524,\n",
       " 525,\n",
       " 549,\n",
       " 550,\n",
       " 554,\n",
       " 557,\n",
       " 574,\n",
       " 581,\n",
       " 585,\n",
       " 587,\n",
       " 606,\n",
       " 609,\n",
       " 631,\n",
       " 632,\n",
       " 638,\n",
       " 644,\n",
       " 645,\n",
       " 647,\n",
       " 650,\n",
       " 658,\n",
       " 663,\n",
       " 665,\n",
       " 667,\n",
       " 674,\n",
       " 680,\n",
       " 691,\n",
       " 697,\n",
       " 711,\n",
       " 721,\n",
       " 723,\n",
       " 727,\n",
       " 741,\n",
       " 754,\n",
       " 762,\n",
       " 790,\n",
       " 793,\n",
       " 799,\n",
       " 800,\n",
       " 802,\n",
       " 804,\n",
       " 809,\n",
       " 811,\n",
       " 821,\n",
       " 825,\n",
       " 832,\n",
       " 838,\n",
       " 845,\n",
       " 847,\n",
       " 853,\n",
       " 863,\n",
       " 867,\n",
       " 868,\n",
       " 874,\n",
       " 875,\n",
       " 880,\n",
       " 881,\n",
       " 882,\n",
       " 889,\n",
       " 892,\n",
       " 902,\n",
       " 903,\n",
       " 904,\n",
       " 920,\n",
       " 947,\n",
       " 958,\n",
       " 982,\n",
       " 983,\n",
       " 984,\n",
       " 987,\n",
       " 994,\n",
       " 998,\n",
       " 1005,\n",
       " 1014,\n",
       " 1015,\n",
       " 1017,\n",
       " 1025,\n",
       " 1047,\n",
       " 1059,\n",
       " 1070,\n",
       " 1073,\n",
       " 1081,\n",
       " 1088,\n",
       " 1099,\n",
       " 1104,\n",
       " 1106,\n",
       " 1115,\n",
       " 1117,\n",
       " 1124,\n",
       " 1127,\n",
       " 1128,\n",
       " 1138,\n",
       " 1142,\n",
       " 1151,\n",
       " 1164,\n",
       " 1165,\n",
       " 1170,\n",
       " 1179,\n",
       " 1182,\n",
       " 1195,\n",
       " 1203,\n",
       " 1212,\n",
       " 1213,\n",
       " 1230,\n",
       " 1233,\n",
       " 1235,\n",
       " 1236,\n",
       " 1238,\n",
       " 1239,\n",
       " 1240,\n",
       " 1246,\n",
       " 1247,\n",
       " 1253,\n",
       " 1257,\n",
       " 1259,\n",
       " 1261,\n",
       " 1265,\n",
       " 1271,\n",
       " 1274,\n",
       " 1277,\n",
       " 1287,\n",
       " 1294,\n",
       " 1299,\n",
       " 1306,\n",
       " 1312,\n",
       " 1317,\n",
       " 1324,\n",
       " 1325,\n",
       " 1327,\n",
       " 1328,\n",
       " 1330,\n",
       " 1334,\n",
       " 1341,\n",
       " 1347,\n",
       " 1356,\n",
       " 1360,\n",
       " 1362,\n",
       " 1364,\n",
       " 1372,\n",
       " 1374,\n",
       " 1377,\n",
       " 1383,\n",
       " 1402,\n",
       " 1408,\n",
       " 1416,\n",
       " 1417,\n",
       " 1419,\n",
       " 1420,\n",
       " 1439,\n",
       " 1441,\n",
       " 1457,\n",
       " 1466,\n",
       " 1468,\n",
       " 1474,\n",
       " 1476,\n",
       " 1483,\n",
       " 1484,\n",
       " 1492,\n",
       " 1495,\n",
       " 1499,\n",
       " 1501,\n",
       " 1508,\n",
       " 1510,\n",
       " 1511,\n",
       " 1512,\n",
       " 1521,\n",
       " 1529,\n",
       " 1533,\n",
       " 1535,\n",
       " 1539,\n",
       " 1552,\n",
       " 1553,\n",
       " 1556,\n",
       " 1558,\n",
       " 1567,\n",
       " 1568,\n",
       " 1569,\n",
       " 1570,\n",
       " 1572,\n",
       " 1578,\n",
       " 1579,\n",
       " 1611,\n",
       " 1613,\n",
       " 1629,\n",
       " 1639,\n",
       " 1648,\n",
       " 1649,\n",
       " 1655,\n",
       " 1662,\n",
       " 1663,\n",
       " 1666,\n",
       " 1673,\n",
       " 1677,\n",
       " 1689,\n",
       " 1691]"
      ]
     },
     "execution_count": 70,
     "metadata": {},
     "output_type": "execute_result"
    }
   ],
   "source": [
    "sorted(set(data.index) - set(data.dropna().index)) "
   ]
  },
  {
   "cell_type": "markdown",
   "metadata": {},
   "source": [
    "What are the cols that contain missing values?"
   ]
  },
  {
   "cell_type": "code",
   "execution_count": 71,
   "metadata": {},
   "outputs": [
    {
     "name": "stdout",
     "output_type": "stream",
     "text": [
      "{'lifeExp', 'gdpPercap', 'pop'}\n"
     ]
    }
   ],
   "source": [
    "#solution 1\n",
    "rm = set()\n",
    "cm = set()\n",
    "for i in data.index:\n",
    "    for c in data.columns:\n",
    "        v = data.loc[i, c]\n",
    "        if pd.isnull(v):\n",
    "            rm.add(i)\n",
    "            cm.add(c)\n",
    "print(cm)"
   ]
  },
  {
   "cell_type": "code",
   "execution_count": 72,
   "metadata": {},
   "outputs": [
    {
     "data": {
      "text/plain": [
       "{'gdpPercap', 'lifeExp', 'pop'}"
      ]
     },
     "execution_count": 72,
     "metadata": {},
     "output_type": "execute_result"
    }
   ],
   "source": [
    "#solution 2\n",
    "set(data.columns) - set(data.dropna(axis=1).columns)"
   ]
  },
  {
   "cell_type": "code",
   "execution_count": 73,
   "metadata": {},
   "outputs": [
    {
     "data": {
      "text/html": [
       "<div>\n",
       "<style scoped>\n",
       "    .dataframe tbody tr th:only-of-type {\n",
       "        vertical-align: middle;\n",
       "    }\n",
       "\n",
       "    .dataframe tbody tr th {\n",
       "        vertical-align: top;\n",
       "    }\n",
       "\n",
       "    .dataframe thead th {\n",
       "        text-align: right;\n",
       "    }\n",
       "</style>\n",
       "<table border=\"1\" class=\"dataframe\">\n",
       "  <thead>\n",
       "    <tr style=\"text-align: right;\">\n",
       "      <th></th>\n",
       "      <th>country</th>\n",
       "      <th>continent</th>\n",
       "      <th>year</th>\n",
       "      <th>lifeExp</th>\n",
       "      <th>pop</th>\n",
       "      <th>gdpPercap</th>\n",
       "    </tr>\n",
       "  </thead>\n",
       "  <tbody>\n",
       "    <tr>\n",
       "      <th>0</th>\n",
       "      <td>False</td>\n",
       "      <td>False</td>\n",
       "      <td>False</td>\n",
       "      <td>False</td>\n",
       "      <td>False</td>\n",
       "      <td>False</td>\n",
       "    </tr>\n",
       "    <tr>\n",
       "      <th>1</th>\n",
       "      <td>False</td>\n",
       "      <td>False</td>\n",
       "      <td>False</td>\n",
       "      <td>False</td>\n",
       "      <td>False</td>\n",
       "      <td>False</td>\n",
       "    </tr>\n",
       "    <tr>\n",
       "      <th>2</th>\n",
       "      <td>False</td>\n",
       "      <td>False</td>\n",
       "      <td>False</td>\n",
       "      <td>False</td>\n",
       "      <td>False</td>\n",
       "      <td>True</td>\n",
       "    </tr>\n",
       "    <tr>\n",
       "      <th>3</th>\n",
       "      <td>False</td>\n",
       "      <td>False</td>\n",
       "      <td>False</td>\n",
       "      <td>False</td>\n",
       "      <td>False</td>\n",
       "      <td>False</td>\n",
       "    </tr>\n",
       "    <tr>\n",
       "      <th>4</th>\n",
       "      <td>False</td>\n",
       "      <td>False</td>\n",
       "      <td>False</td>\n",
       "      <td>False</td>\n",
       "      <td>False</td>\n",
       "      <td>False</td>\n",
       "    </tr>\n",
       "    <tr>\n",
       "      <th>...</th>\n",
       "      <td>...</td>\n",
       "      <td>...</td>\n",
       "      <td>...</td>\n",
       "      <td>...</td>\n",
       "      <td>...</td>\n",
       "      <td>...</td>\n",
       "    </tr>\n",
       "    <tr>\n",
       "      <th>1699</th>\n",
       "      <td>False</td>\n",
       "      <td>False</td>\n",
       "      <td>False</td>\n",
       "      <td>False</td>\n",
       "      <td>False</td>\n",
       "      <td>False</td>\n",
       "    </tr>\n",
       "    <tr>\n",
       "      <th>1700</th>\n",
       "      <td>False</td>\n",
       "      <td>False</td>\n",
       "      <td>False</td>\n",
       "      <td>False</td>\n",
       "      <td>False</td>\n",
       "      <td>False</td>\n",
       "    </tr>\n",
       "    <tr>\n",
       "      <th>1701</th>\n",
       "      <td>False</td>\n",
       "      <td>False</td>\n",
       "      <td>False</td>\n",
       "      <td>False</td>\n",
       "      <td>False</td>\n",
       "      <td>False</td>\n",
       "    </tr>\n",
       "    <tr>\n",
       "      <th>1702</th>\n",
       "      <td>False</td>\n",
       "      <td>False</td>\n",
       "      <td>False</td>\n",
       "      <td>False</td>\n",
       "      <td>False</td>\n",
       "      <td>False</td>\n",
       "    </tr>\n",
       "    <tr>\n",
       "      <th>1703</th>\n",
       "      <td>False</td>\n",
       "      <td>False</td>\n",
       "      <td>False</td>\n",
       "      <td>False</td>\n",
       "      <td>False</td>\n",
       "      <td>False</td>\n",
       "    </tr>\n",
       "  </tbody>\n",
       "</table>\n",
       "<p>1704 rows × 6 columns</p>\n",
       "</div>"
      ],
      "text/plain": [
       "      country  continent   year  lifeExp    pop  gdpPercap\n",
       "0       False      False  False    False  False      False\n",
       "1       False      False  False    False  False      False\n",
       "2       False      False  False    False  False       True\n",
       "3       False      False  False    False  False      False\n",
       "4       False      False  False    False  False      False\n",
       "...       ...        ...    ...      ...    ...        ...\n",
       "1699    False      False  False    False  False      False\n",
       "1700    False      False  False    False  False      False\n",
       "1701    False      False  False    False  False      False\n",
       "1702    False      False  False    False  False      False\n",
       "1703    False      False  False    False  False      False\n",
       "\n",
       "[1704 rows x 6 columns]"
      ]
     },
     "execution_count": 73,
     "metadata": {},
     "output_type": "execute_result"
    }
   ],
   "source": [
    "#Solution 3\n",
    "data.isnull()"
   ]
  },
  {
   "cell_type": "code",
   "execution_count": 74,
   "metadata": {},
   "outputs": [
    {
     "data": {
      "text/plain": [
       "Index(['lifeExp', 'pop', 'gdpPercap'], dtype='object')"
      ]
     },
     "execution_count": 74,
     "metadata": {},
     "output_type": "execute_result"
    }
   ],
   "source": [
    "#solution 3\n",
    "s = data.isnull().any()\n",
    "s[s].index"
   ]
  },
  {
   "cell_type": "markdown",
   "metadata": {},
   "source": [
    "### Part 2\n",
    "\n",
    "The file `gapminder_with_corrupt.tsv` contains the same gapminder data but some numerical entries are corrupt"
   ]
  },
  {
   "cell_type": "code",
   "execution_count": 75,
   "metadata": {},
   "outputs": [
    {
     "data": {
      "text/html": [
       "<div>\n",
       "<style scoped>\n",
       "    .dataframe tbody tr th:only-of-type {\n",
       "        vertical-align: middle;\n",
       "    }\n",
       "\n",
       "    .dataframe tbody tr th {\n",
       "        vertical-align: top;\n",
       "    }\n",
       "\n",
       "    .dataframe thead th {\n",
       "        text-align: right;\n",
       "    }\n",
       "</style>\n",
       "<table border=\"1\" class=\"dataframe\">\n",
       "  <thead>\n",
       "    <tr style=\"text-align: right;\">\n",
       "      <th></th>\n",
       "      <th>country</th>\n",
       "      <th>continent</th>\n",
       "      <th>year</th>\n",
       "      <th>lifeExp</th>\n",
       "      <th>pop</th>\n",
       "      <th>gdpPercap</th>\n",
       "    </tr>\n",
       "  </thead>\n",
       "  <tbody>\n",
       "    <tr>\n",
       "      <th>0</th>\n",
       "      <td>Afghanistan</td>\n",
       "      <td>Asia</td>\n",
       "      <td>1952</td>\n",
       "      <td>28.801</td>\n",
       "      <td>8425333</td>\n",
       "      <td>779.4453145</td>\n",
       "    </tr>\n",
       "    <tr>\n",
       "      <th>1</th>\n",
       "      <td>Afghanistan</td>\n",
       "      <td>Asia</td>\n",
       "      <td>1957</td>\n",
       "      <td>30.332</td>\n",
       "      <td>9240934</td>\n",
       "      <td>820.8530296nn</td>\n",
       "    </tr>\n",
       "    <tr>\n",
       "      <th>2</th>\n",
       "      <td>Afghanistan</td>\n",
       "      <td>Asia</td>\n",
       "      <td>1962</td>\n",
       "      <td>31.997</td>\n",
       "      <td>10267083</td>\n",
       "      <td>853.10071</td>\n",
       "    </tr>\n",
       "    <tr>\n",
       "      <th>3</th>\n",
       "      <td>Afghanistan</td>\n",
       "      <td>Asia</td>\n",
       "      <td>1967</td>\n",
       "      <td>34.02</td>\n",
       "      <td>11537966</td>\n",
       "      <td>836.1971382</td>\n",
       "    </tr>\n",
       "    <tr>\n",
       "      <th>4</th>\n",
       "      <td>Afghanistan</td>\n",
       "      <td>Asia</td>\n",
       "      <td>1972</td>\n",
       "      <td>36.088</td>\n",
       "      <td>13079460</td>\n",
       "      <td>739.9811058</td>\n",
       "    </tr>\n",
       "  </tbody>\n",
       "</table>\n",
       "</div>"
      ],
      "text/plain": [
       "       country continent  year lifeExp       pop      gdpPercap\n",
       "0  Afghanistan      Asia  1952  28.801   8425333    779.4453145\n",
       "1  Afghanistan      Asia  1957  30.332   9240934  820.8530296nn\n",
       "2  Afghanistan      Asia  1962  31.997  10267083      853.10071\n",
       "3  Afghanistan      Asia  1967   34.02  11537966    836.1971382\n",
       "4  Afghanistan      Asia  1972  36.088  13079460    739.9811058"
      ]
     },
     "execution_count": 75,
     "metadata": {},
     "output_type": "execute_result"
    }
   ],
   "source": [
    "c_data = pd.read_csv('data/gapminder_with_corrupt.tsv', sep='\\t')\n",
    "c_data.head()"
   ]
  },
  {
   "cell_type": "markdown",
   "metadata": {},
   "source": [
    "Calculate the average `lifeExp`, `pop`, and `gdpPercap`\n",
    "\n",
    "You will need to detect the corrupt values and exclude them from the calculation\n",
    "\n",
    "*HINT* replace the corrupt values with NaN"
   ]
  },
  {
   "cell_type": "code",
   "execution_count": 76,
   "metadata": {},
   "outputs": [
    {
     "data": {
      "text/plain": [
       "country      object\n",
       "continent    object\n",
       "year          int64\n",
       "lifeExp      object\n",
       "pop          object\n",
       "gdpPercap    object\n",
       "dtype: object"
      ]
     },
     "execution_count": 76,
     "metadata": {},
     "output_type": "execute_result"
    }
   ],
   "source": [
    "c_data.dtypes"
   ]
  },
  {
   "cell_type": "code",
   "execution_count": 77,
   "metadata": {},
   "outputs": [],
   "source": [
    "# Solution 1: Manually update non-numbers\n",
    "def is_number(n):\n",
    "    for c in n:\n",
    "        if c not in '0123456789.':\n",
    "            return False\n",
    "    return True #\n",
    "\n",
    "def convert_to_number(n):\n",
    "    if is_number(n):\n",
    "        return float(n)\n",
    "    else:\n",
    "        return np.nan"
   ]
  },
  {
   "cell_type": "code",
   "execution_count": 78,
   "metadata": {},
   "outputs": [],
   "source": [
    "c_data['lifeExp'] = c_data['lifeExp'].apply(convert_to_number)\n",
    "c_data['pop'] = c_data['pop'].apply(convert_to_number)\n",
    "c_data['gdpPercap'] = c_data['gdpPercap'].apply(convert_to_number)"
   ]
  },
  {
   "cell_type": "code",
   "execution_count": 79,
   "metadata": {},
   "outputs": [
    {
     "name": "stdout",
     "output_type": "stream",
     "text": [
      "59.44340112104949\n",
      "29361346.398798797\n",
      "7186.243429043541\n"
     ]
    }
   ],
   "source": [
    "aveLifeExp = c_data.lifeExp.mean()\n",
    "avepop = c_data['pop'].mean()\n",
    "aveGDP = c_data.gdpPercap.mean()\n",
    "\n",
    "print(aveLifeExp)\n",
    "print(avepop)\n",
    "print(aveGDP)"
   ]
  },
  {
   "cell_type": "markdown",
   "metadata": {},
   "source": [
    "### Solution 2: Using pandas to_numeric function\n",
    "\n",
    "The 'errors' parameter asks what the computer should do if it sees an error. 'coerce' will replace it with a null value if it is unable to make it a number."
   ]
  },
  {
   "cell_type": "code",
   "execution_count": 80,
   "metadata": {},
   "outputs": [],
   "source": [
    "#Solution 2: Using pandas to_numeric function\n",
    "c_data = pd.read_csv('data/gapminder_with_corrupt.tsv', sep='\\t')\n",
    "\n",
    "c_data['lifeExp'] = pd.to_numeric(c_data['lifeExp'], errors='coerce')\n",
    "c_data['pop'] = pd.to_numeric(c_data['pop'], errors='coerce')\n",
    "c_data['gdpPercap'] = pd.to_numeric(c_data['gdpPercap'], errors='coerce')"
   ]
  },
  {
   "cell_type": "code",
   "execution_count": 81,
   "metadata": {},
   "outputs": [
    {
     "name": "stdout",
     "output_type": "stream",
     "text": [
      "59.44340112104949\n",
      "29361346.398798797\n",
      "7186.243429043541\n"
     ]
    }
   ],
   "source": [
    "aveLifeExp = c_data.lifeExp.mean()\n",
    "avepop = c_data['pop'].mean()\n",
    "aveGDP = c_data.gdpPercap.mean()\n",
    "\n",
    "print(aveLifeExp)\n",
    "print(avepop)\n",
    "print(aveGDP)"
   ]
  }
 ],
 "metadata": {
  "kernelspec": {
   "display_name": "Python 3",
   "language": "python",
   "name": "python3"
  },
  "language_info": {
   "codemirror_mode": {
    "name": "ipython",
    "version": 3
   },
   "file_extension": ".py",
   "mimetype": "text/x-python",
   "name": "python",
   "nbconvert_exporter": "python",
   "pygments_lexer": "ipython3",
   "version": "3.11.7"
  }
 },
 "nbformat": 4,
 "nbformat_minor": 2
}
