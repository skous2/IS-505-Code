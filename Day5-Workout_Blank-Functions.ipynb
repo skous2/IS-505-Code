{
 "cells": [
  {
   "cell_type": "markdown",
   "metadata": {},
   "source": [
    "# Day 5 Workout - Functions"
   ]
  },
  {
   "cell_type": "markdown",
   "metadata": {},
   "source": [
    "Define a function `mask` that takes a string and returns `*` repeated as many times as the length of the string\n",
    "\n",
    "For example, `mask(\"342-33-4432\")` returns `***********`"
   ]
  },
  {
   "cell_type": "code",
   "execution_count": null,
   "metadata": {},
   "outputs": [],
   "source": []
  },
  {
   "cell_type": "code",
   "execution_count": null,
   "metadata": {},
   "outputs": [],
   "source": []
  },
  {
   "cell_type": "markdown",
   "metadata": {},
   "source": [
    "Define `mask` using a lambda expression"
   ]
  },
  {
   "cell_type": "code",
   "execution_count": 3,
   "metadata": {},
   "outputs": [],
   "source": []
  },
  {
   "cell_type": "code",
   "execution_count": null,
   "metadata": {},
   "outputs": [],
   "source": []
  },
  {
   "cell_type": "markdown",
   "metadata": {},
   "source": [
    "Modify `mask` to add an optional parameter which is the `masking_character`, by default this parameter is `*`\n",
    "\n",
    "*Note* you will not be able to use a lambda expression with a default parameter, you have to use `def`"
   ]
  },
  {
   "cell_type": "code",
   "execution_count": null,
   "metadata": {},
   "outputs": [],
   "source": []
  },
  {
   "cell_type": "code",
   "execution_count": null,
   "metadata": {},
   "outputs": [],
   "source": []
  },
  {
   "cell_type": "markdown",
   "metadata": {},
   "source": [
    "Define a function `is_number` that takes a string and returns `True` if the string is one word that contains a number defined as having all characters as digits or `-`"
   ]
  },
  {
   "cell_type": "code",
   "execution_count": 8,
   "metadata": {},
   "outputs": [],
   "source": []
  },
  {
   "cell_type": "markdown",
   "metadata": {},
   "source": [
    "Write a function `classify` that takes a string and classifies sensitive information. Use the functions `is_number` and `mask` from above.\n",
    "\n",
    "For example, classifying `msg` should return\n",
    "\n",
    "`some secret information\n",
    "the client number is ************ and her social\n",
    "is *********** email is precious.client@wealth.org\n",
    "other than that the weather is sunny and life is good`"
   ]
  },
  {
   "cell_type": "code",
   "execution_count": 11,
   "metadata": {},
   "outputs": [],
   "source": [
    "msg = \"\"\"some secret information\n",
    "the client number is 444-222-5555 and her social\n",
    "is 345-22-5556 email is precious.client@wealth.org\n",
    "other than that the weather is sunny and life is good\"\"\""
   ]
  },
  {
   "cell_type": "code",
   "execution_count": null,
   "metadata": {},
   "outputs": [],
   "source": []
  },
  {
   "cell_type": "code",
   "execution_count": null,
   "metadata": {},
   "outputs": [],
   "source": []
  },
  {
   "cell_type": "markdown",
   "metadata": {},
   "source": [
    "The last function will take care of sensitive numbers, but we would like to classify other sensitive information such as emails. I provide below a function `is_email` that returns `True` if the parameter is an email address\n",
    "\n",
    "Modify, the function `classify` to take an optional parameter, which is the function to use to detect sensitive information (e.g., is_number, is_email)\n",
    "\n",
    "Use the new function along with `is_number` and `is_email` to classify `msg`\n",
    "\n",
    "For example, `print(classifiy(msg, is_number))` should print\n",
    "\n",
    "`some secret information\n",
    "the client number is ************ and her social\n",
    "is *********** email is precious.client@wealth.org\n",
    "other than that the weather is sunny and life is good`\n",
    "\n",
    "and `print(classifiy(msg, is_email))` should print\n",
    "\n",
    "`some secret information\n",
    "the client number is 444-222-5555 and her social\n",
    "is 345-22-5556 email is **************************\n",
    "other than that the weather is sunny and life is good`\n",
    "\n",
    "Can you classify both numbers and emails?"
   ]
  },
  {
   "cell_type": "code",
   "execution_count": 14,
   "metadata": {},
   "outputs": [],
   "source": [
    "def is_email(text):\n",
    "    return '@' in text and not text.startswith('@')"
   ]
  },
  {
   "cell_type": "code",
   "execution_count": null,
   "metadata": {},
   "outputs": [],
   "source": []
  },
  {
   "cell_type": "code",
   "execution_count": null,
   "metadata": {},
   "outputs": [],
   "source": []
  },
  {
   "cell_type": "code",
   "execution_count": null,
   "metadata": {},
   "outputs": [],
   "source": []
  }
 ],
 "metadata": {
  "kernelspec": {
   "display_name": "Python 3",
   "language": "python",
   "name": "python3"
  },
  "language_info": {
   "codemirror_mode": {
    "name": "ipython",
    "version": 3
   },
   "file_extension": ".py",
   "mimetype": "text/x-python",
   "name": "python",
   "nbconvert_exporter": "python",
   "pygments_lexer": "ipython3",
   "version": "3.10.12"
  }
 },
 "nbformat": 4,
 "nbformat_minor": 2
}
