{
 "cells": [
  {
   "cell_type": "markdown",
   "metadata": {},
   "source": [
    "# Day 4 Workout - Control Flow"
   ]
  },
  {
   "cell_type": "markdown",
   "metadata": {},
   "source": [
    "Assign the value 7 to the variable guess_me. Then, write the conditional tests (if, else, and elif) to print the string 'too low' if guess_me is less than 7, 'too high' if greater than 7, and 'just right' if equal to 7."
   ]
  },
  {
   "cell_type": "code",
   "execution_count": null,
   "metadata": {},
   "outputs": [],
   "source": []
  },
  {
   "cell_type": "markdown",
   "metadata": {},
   "source": [
    "Extract email address from `msg` using a loop.\n",
    "Think about breaking the text to words, then print\n",
    "words that contain `@`"
   ]
  },
  {
   "cell_type": "code",
   "execution_count": 2,
   "metadata": {},
   "outputs": [],
   "source": [
    "msg = \"\"\"My name is James Bond and my email address\n",
    "is james.bond@mi6.co.uk\n",
    "Do not hesitate to write me. I'm a man for all seasons.\n",
    "You can write to my secretary Miss.Moneypenny@mi6.co.uk\n",
    "\"\"\""
   ]
  },
  {
   "cell_type": "code",
   "execution_count": null,
   "metadata": {},
   "outputs": [],
   "source": []
  },
  {
   "cell_type": "markdown",
   "metadata": {},
   "source": [
    "Use a loop to extract numbers from the secret message below.\n",
    "Note that numbers can contain the extra character `-`\n",
    "\n",
    "Write a loop to go over the words in the secrect message.\n",
    "Then write an inner loop to go over each character in the word.\n",
    "If all characters are numbers or `-` then the word is a number.\n",
    "Print it!\n"
   ]
  },
  {
   "cell_type": "code",
   "execution_count": 1,
   "metadata": {},
   "outputs": [],
   "source": [
    "msg = \"\"\"some secret information\n",
    "the client number is 444-222-5555 and her social\n",
    "is 345-22-5556\"\"\""
   ]
  },
  {
   "cell_type": "code",
   "execution_count": null,
   "metadata": {},
   "outputs": [],
   "source": [
    "\n"
   ]
  },
  {
   "cell_type": "code",
   "execution_count": null,
   "metadata": {},
   "outputs": [],
   "source": []
  },
  {
   "cell_type": "markdown",
   "metadata": {},
   "source": [
    "Write a loop that prints numbers from 1 to 31, append the prefix \"1-\" to the numbers, these are day of January, see sample output below"
   ]
  },
  {
   "cell_type": "raw",
   "metadata": {},
   "source": [
    "1-1\n",
    "1-2\n",
    "1-3\n",
    "1-4\n",
    "1-5\n",
    "1-6\n",
    "1-7\n",
    "1-8\n",
    "1-9\n",
    "1-10\n",
    "1-11\n",
    "1-12\n",
    "1-13\n",
    "1-14\n",
    "1-15\n",
    "1-16\n",
    "1-17\n",
    "1-18\n",
    "1-19\n",
    "1-20\n",
    "1-21\n",
    "1-22\n",
    "1-23\n",
    "1-24\n",
    "1-25\n",
    "1-26\n",
    "1-27\n",
    "1-28\n",
    "1-29\n",
    "1-30\n",
    "1-31"
   ]
  },
  {
   "cell_type": "code",
   "execution_count": null,
   "metadata": {},
   "outputs": [],
   "source": []
  },
  {
   "cell_type": "markdown",
   "metadata": {},
   "source": [
    "Vary the prefix from 1- to 12- to print all days of the year, do not worry about incorrect dates for now"
   ]
  },
  {
   "cell_type": "code",
   "execution_count": null,
   "metadata": {},
   "outputs": [],
   "source": []
  },
  {
   "cell_type": "markdown",
   "metadata": {},
   "source": [
    "Now, address the issue of some months being only 30 days and february if 29 days (this year)"
   ]
  },
  {
   "cell_type": "code",
   "execution_count": null,
   "metadata": {
    "scrolled": false
   },
   "outputs": [],
   "source": []
  }
 ],
 "metadata": {
  "kernelspec": {
   "display_name": "Python 3",
   "language": "python",
   "name": "python3"
  },
  "language_info": {
   "codemirror_mode": {
    "name": "ipython",
    "version": 3
   },
   "file_extension": ".py",
   "mimetype": "text/x-python",
   "name": "python",
   "nbconvert_exporter": "python",
   "pygments_lexer": "ipython3",
   "version": "3.10.12"
  }
 },
 "nbformat": 4,
 "nbformat_minor": 2
}
