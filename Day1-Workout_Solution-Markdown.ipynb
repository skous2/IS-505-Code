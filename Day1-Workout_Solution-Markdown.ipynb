{
 "cells": [
  {
   "cell_type": "markdown",
   "metadata": {},
   "source": [
    "# Day 1 Workout - Markdown"
   ]
  },
  {
   "cell_type": "markdown",
   "metadata": {},
   "source": [
    "Refer to [Brigham Young University - Facts and Figures Page](https://www.byu.edu/facts-figures)\n",
    "\n",
    "Reconstruct (some) of this page using markdown in this notebook\n",
    "\n",
    "--------"
   ]
  },
  {
   "cell_type": "markdown",
   "metadata": {},
   "source": [
    "# BYU Facts and Figures\n",
    "\n",
    "> The @usnews 2023 rankings for best graduate schools includes @BYU among the top contenders\n",
    "\n",
    "**Location**\n",
    "\n",
    ">Provo, Utah (Utah County)\n"
   ]
  },
  {
   "cell_type": "markdown",
   "metadata": {},
   "source": [
    "**Enrollment Profile**\n",
    "\n",
    "|.  |.  |\n",
    "| - | - |\n",
    "|**Total Daytime Students**\t| 34,390 |\n",
    "| **Undergraduate Students**\t| 31,389 |\n",
    "| **Graduate Students**\t| 3,001 |\n",
    "\n",
    "(As of Fall 2022)"
   ]
  },
  {
   "cell_type": "markdown",
   "metadata": {},
   "source": [
    "**Tuition 2022-2023**\n",
    "\n",
    "- Latter-day Saint\n",
    "  - Undergraduate: $3,152 per semester\n",
    "  - Graduate: $3,966 per semester\n",
    "- Non Latter-day Saint:\n",
    "  - Undergraduate: $6,304 per semester\n",
    "  - Graduate: $7,932 per semester\n",
    "\n",
    "(For 2022-2023)"
   ]
  },
  {
   "cell_type": "markdown",
   "metadata": {},
   "source": [
    "Convert the [First Presidency of the Church Information](https://www.churchofjesuschrist.org/learn/first-presidency?lang=eng) into a Markdown table\n",
    "\n",
    "*You don't need to convert the whole table just few entries*\n",
    "\n",
    "--------"
   ]
  },
  {
   "cell_type": "markdown",
   "metadata": {},
   "source": [
    "|      Image   |         Name         |      Birth Date     |   Calling    |    Call Date  |\n",
    "| ----------------------------------------------------------------------------------------------------------------------- | -------------------- | ---------------- | ----------- | ------------ |\n",
    "| ![](https://brightspot-assets.churchofjesuschrist.org/dims4/default/5da90f7/2147483647/strip/false/crop/1600x1920+0+0/resize/200x240!/format/jpg/quality/90/?url=https%3A%2F%2Fassets.churchofjesuschrist.org%2Fd3%2F0d%2Fd30d849cd91a3ce4ffe2502400e40b28e6db2e21%2Frussell_nelson_official_portrait_2018.jpeg) | Russell Marion Nelson   | 9 Sep 1924        | President of the Church  | 14 Jan 2018 |\n",
    "| ![](https://brightspot-assets.churchofjesuschrist.org/dims4/default/ccb9829/2147483647/strip/false/crop/1280x1536+0+0/resize/200x240!/format/jpg/quality/90/?url=https%3A%2F%2Fassets.churchofjesuschrist.org%2F365489e6b71bf75e5a990a3a329f3ce4715bda3a) | Dallin Harris Oaks   | 12 Aug 1932       | First Counselor | 14 Jan 2018 |\n",
    "| ![](https://brightspot-assets.churchofjesuschrist.org/dims4/default/5dd8239/2147483647/strip/false/crop/1280x1536+0+0/resize/200x240!/format/jpg/quality/90/?url=https%3A%2F%2Fassets.churchofjesuschrist.org%2Ff44ae3c8b453666d561a6801a9d85184658d4e09) | Henry Bennion Eyring | 31 May 1933  | Second Counselor  | 14 Jan 2018 |\n"
   ]
  }
 ],
 "metadata": {
  "kernelspec": {
   "display_name": "Python 3",
   "language": "python",
   "name": "python3"
  },
  "language_info": {
   "name": "python",
   "version": "3.10.12"
  }
 },
 "nbformat": 4,
 "nbformat_minor": 2
}
