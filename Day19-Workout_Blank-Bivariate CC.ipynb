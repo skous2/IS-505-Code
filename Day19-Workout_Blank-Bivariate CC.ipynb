{
 "cells": [
  {
   "cell_type": "markdown",
   "metadata": {},
   "source": [
    "# Day 19 - Workout Bivariate Stats Cat/Cat\n",
    "\n",
    "Download the accidents_2021_reduced.csv dataset and explore this data by discovering which features have an effect on traffic severity. \n",
    "\n",
    "The severity score ranges from 1-4 and indicates the level of impact on traffic flow:\n",
    "\n",
    "1. no impact on traffic\n",
    "2. minor traffic impact\n",
    "3. moderate traffic impact\n",
    "4. major traffic impact\n",
    "\n",
    "Begin by calculating the Pearson Chi-Square statistic and p-value for the relationship between time zone and severity. Does severity different across time zones?"
   ]
  },
  {
   "cell_type": "code",
   "execution_count": 49,
   "metadata": {},
   "outputs": [],
   "source": [
    "import pandas as pd\n",
    "\n",
    "df = pd.read_csv('data/accidents_2021_reduced.csv')"
   ]
  },
  {
   "cell_type": "code",
   "execution_count": null,
   "metadata": {},
   "outputs": [],
   "source": []
  },
  {
   "cell_type": "markdown",
   "metadata": {},
   "source": [
    "Demonstrate a heatmap of Severity and Timezone. Which time zone has the most accidents?\n"
   ]
  },
  {
   "cell_type": "code",
   "execution_count": null,
   "metadata": {},
   "outputs": [],
   "source": []
  },
  {
   "cell_type": "code",
   "execution_count": null,
   "metadata": {},
   "outputs": [],
   "source": []
  },
  {
   "cell_type": "markdown",
   "metadata": {},
   "source": [
    "Finally, let's see what the effect of the crash distance is on the severity. However, crash distance is numeric. Therefore, convert crash distance into five equally-sized (or nearly equal) bins first and calculate a X2 statistic and p-value between this new binned version of crash distance and severity. Create and crosstab and heatmap overlay again. Is there a significant effect of crash distance on severity?\n",
    "\n",
    "HINT: If you choose to iterate over the rows using .itertuples(), then you may find it helpful to rename Distance(mi) to \"distance\" or some version without the \"(mi)\" portion."
   ]
  },
  {
   "cell_type": "code",
   "execution_count": null,
   "metadata": {},
   "outputs": [],
   "source": []
  },
  {
   "cell_type": "code",
   "execution_count": null,
   "metadata": {},
   "outputs": [],
   "source": []
  },
  {
   "cell_type": "code",
   "execution_count": null,
   "metadata": {},
   "outputs": [],
   "source": []
  }
 ],
 "metadata": {
  "kernelspec": {
   "display_name": "Python 3",
   "language": "python",
   "name": "python3"
  },
  "language_info": {
   "codemirror_mode": {
    "name": "ipython",
    "version": 3
   },
   "file_extension": ".py",
   "mimetype": "text/x-python",
   "name": "python",
   "nbconvert_exporter": "python",
   "pygments_lexer": "ipython3",
   "version": "3.11.7"
  }
 },
 "nbformat": 4,
 "nbformat_minor": 2
}
