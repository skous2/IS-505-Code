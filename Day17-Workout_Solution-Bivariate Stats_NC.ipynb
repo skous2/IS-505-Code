{
 "cells": [
  {
   "cell_type": "markdown",
   "metadata": {},
   "source": [
    "# Day 17 Workout - Bivariate Stats Numeric to Categorical\n",
    "\n",
    "Try modifying the t-testcode in the introduction include the feature 'Marital Status' from the original dataset. Create two lists of income for those who are single versus married. Perform a t-test. Is there a difference in income between single versus married customers?"
   ]
  },
  {
   "cell_type": "code",
   "execution_count": 3,
   "metadata": {},
   "outputs": [
    {
     "data": {
      "text/html": [
       "<div>\n",
       "<style scoped>\n",
       "    .dataframe tbody tr th:only-of-type {\n",
       "        vertical-align: middle;\n",
       "    }\n",
       "\n",
       "    .dataframe tbody tr th {\n",
       "        vertical-align: top;\n",
       "    }\n",
       "\n",
       "    .dataframe thead th {\n",
       "        text-align: right;\n",
       "    }\n",
       "</style>\n",
       "<table border=\"1\" class=\"dataframe\">\n",
       "  <thead>\n",
       "    <tr style=\"text-align: right;\">\n",
       "      <th></th>\n",
       "      <th>ID</th>\n",
       "      <th>Marital Status</th>\n",
       "      <th>Gender</th>\n",
       "      <th>MaritalStatusNumeric</th>\n",
       "      <th>GenderNumeric</th>\n",
       "      <th>Income</th>\n",
       "      <th>Children</th>\n",
       "      <th>EducationNumeric</th>\n",
       "      <th>CommuteDistanceNumeric</th>\n",
       "      <th>Cars</th>\n",
       "      <th>Age</th>\n",
       "      <th>HomeOwnerNumeric</th>\n",
       "      <th>PurchaseBikeNumeric</th>\n",
       "      <th>Education</th>\n",
       "      <th>Occupation</th>\n",
       "      <th>Home Owner</th>\n",
       "      <th>Commute Distance</th>\n",
       "      <th>Region</th>\n",
       "      <th>Purchased Bike</th>\n",
       "    </tr>\n",
       "  </thead>\n",
       "  <tbody>\n",
       "    <tr>\n",
       "      <th>0</th>\n",
       "      <td>11000</td>\n",
       "      <td>Married</td>\n",
       "      <td>Male</td>\n",
       "      <td>1</td>\n",
       "      <td>0</td>\n",
       "      <td>90000</td>\n",
       "      <td>2</td>\n",
       "      <td>4</td>\n",
       "      <td>2</td>\n",
       "      <td>0</td>\n",
       "      <td>40</td>\n",
       "      <td>1</td>\n",
       "      <td>1</td>\n",
       "      <td>Bachelors</td>\n",
       "      <td>Professional</td>\n",
       "      <td>Yes</td>\n",
       "      <td>1-2 Miles</td>\n",
       "      <td>Pacific</td>\n",
       "      <td>Yes</td>\n",
       "    </tr>\n",
       "    <tr>\n",
       "      <th>1</th>\n",
       "      <td>11047</td>\n",
       "      <td>Married</td>\n",
       "      <td>Female</td>\n",
       "      <td>1</td>\n",
       "      <td>1</td>\n",
       "      <td>30000</td>\n",
       "      <td>3</td>\n",
       "      <td>2</td>\n",
       "      <td>2</td>\n",
       "      <td>2</td>\n",
       "      <td>56</td>\n",
       "      <td>0</td>\n",
       "      <td>1</td>\n",
       "      <td>High School</td>\n",
       "      <td>Skilled Manual</td>\n",
       "      <td>No</td>\n",
       "      <td>1-2 Miles</td>\n",
       "      <td>Pacific</td>\n",
       "      <td>Yes</td>\n",
       "    </tr>\n",
       "    <tr>\n",
       "      <th>2</th>\n",
       "      <td>11061</td>\n",
       "      <td>Married</td>\n",
       "      <td>Male</td>\n",
       "      <td>1</td>\n",
       "      <td>0</td>\n",
       "      <td>80000</td>\n",
       "      <td>2</td>\n",
       "      <td>3</td>\n",
       "      <td>4</td>\n",
       "      <td>2</td>\n",
       "      <td>52</td>\n",
       "      <td>1</td>\n",
       "      <td>1</td>\n",
       "      <td>Partial College</td>\n",
       "      <td>Skilled Manual</td>\n",
       "      <td>Yes</td>\n",
       "      <td>5-10 Miles</td>\n",
       "      <td>Pacific</td>\n",
       "      <td>Yes</td>\n",
       "    </tr>\n",
       "    <tr>\n",
       "      <th>3</th>\n",
       "      <td>11090</td>\n",
       "      <td>Single</td>\n",
       "      <td>Male</td>\n",
       "      <td>0</td>\n",
       "      <td>0</td>\n",
       "      <td>90000</td>\n",
       "      <td>2</td>\n",
       "      <td>3</td>\n",
       "      <td>3</td>\n",
       "      <td>1</td>\n",
       "      <td>48</td>\n",
       "      <td>1</td>\n",
       "      <td>1</td>\n",
       "      <td>Partial College</td>\n",
       "      <td>Professional</td>\n",
       "      <td>Yes</td>\n",
       "      <td>2-5 Miles</td>\n",
       "      <td>North America</td>\n",
       "      <td>Yes</td>\n",
       "    </tr>\n",
       "    <tr>\n",
       "      <th>4</th>\n",
       "      <td>11116</td>\n",
       "      <td>Married</td>\n",
       "      <td>Male</td>\n",
       "      <td>1</td>\n",
       "      <td>0</td>\n",
       "      <td>70000</td>\n",
       "      <td>5</td>\n",
       "      <td>3</td>\n",
       "      <td>4</td>\n",
       "      <td>2</td>\n",
       "      <td>43</td>\n",
       "      <td>1</td>\n",
       "      <td>0</td>\n",
       "      <td>Partial College</td>\n",
       "      <td>Skilled Manual</td>\n",
       "      <td>Yes</td>\n",
       "      <td>5-10 Miles</td>\n",
       "      <td>Pacific</td>\n",
       "      <td>No</td>\n",
       "    </tr>\n",
       "  </tbody>\n",
       "</table>\n",
       "</div>"
      ],
      "text/plain": [
       "      ID Marital Status  Gender  MaritalStatusNumeric  GenderNumeric  Income  \\\n",
       "0  11000        Married    Male                     1              0   90000   \n",
       "1  11047        Married  Female                     1              1   30000   \n",
       "2  11061        Married    Male                     1              0   80000   \n",
       "3  11090         Single    Male                     0              0   90000   \n",
       "4  11116        Married    Male                     1              0   70000   \n",
       "\n",
       "   Children  EducationNumeric  CommuteDistanceNumeric  Cars  Age  \\\n",
       "0         2                 4                       2     0   40   \n",
       "1         3                 2                       2     2   56   \n",
       "2         2                 3                       4     2   52   \n",
       "3         2                 3                       3     1   48   \n",
       "4         5                 3                       4     2   43   \n",
       "\n",
       "   HomeOwnerNumeric  PurchaseBikeNumeric        Education      Occupation  \\\n",
       "0                 1                    1        Bachelors    Professional   \n",
       "1                 0                    1      High School  Skilled Manual   \n",
       "2                 1                    1  Partial College  Skilled Manual   \n",
       "3                 1                    1  Partial College    Professional   \n",
       "4                 1                    0  Partial College  Skilled Manual   \n",
       "\n",
       "  Home Owner Commute Distance         Region Purchased Bike  \n",
       "0        Yes        1-2 Miles        Pacific            Yes  \n",
       "1         No        1-2 Miles        Pacific            Yes  \n",
       "2        Yes       5-10 Miles        Pacific            Yes  \n",
       "3        Yes        2-5 Miles  North America            Yes  \n",
       "4        Yes       5-10 Miles        Pacific             No  "
      ]
     },
     "execution_count": 3,
     "metadata": {},
     "output_type": "execute_result"
    }
   ],
   "source": [
    "import pandas as pd\n",
    "\n",
    "df = pd.read_csv('data/bikebuyers.csv')\n",
    "df.head()"
   ]
  },
  {
   "cell_type": "code",
   "execution_count": 4,
   "metadata": {},
   "outputs": [
    {
     "name": "stdout",
     "output_type": "stream",
     "text": [
      "58441.55844155844\n",
      "53449.023861171365\n"
     ]
    }
   ],
   "source": [
    "married = df[df['Marital Status'] == 'Married']['Income']\n",
    "single = df[df['Marital Status'] == 'Single']['Income']\n",
    "\n",
    "print(married.mean())\n",
    "print(single.mean())"
   ]
  },
  {
   "cell_type": "code",
   "execution_count": 6,
   "metadata": {},
   "outputs": [
    {
     "data": {
      "text/plain": [
       "TtestResult(statistic=2.5388846033694885, pvalue=0.011271571956825748, df=998.0)"
      ]
     },
     "execution_count": 6,
     "metadata": {},
     "output_type": "execute_result"
    }
   ],
   "source": [
    "from scipy import stats\n",
    "\n",
    "stats.ttest_ind(married, single)"
   ]
  },
  {
   "cell_type": "markdown",
   "metadata": {},
   "source": [
    "### Part 2\n",
    "\n",
    "You have been hired as a consultant to analyze NFL plays in order to eventually predict how many yards will be earned by each play. Use the NFL data in the data folder to complete the following tasks."
   ]
  },
  {
   "cell_type": "markdown",
   "metadata": {},
   "source": [
    "Import the nfl_plays_2022 dataset into a DataFrame and print the first five records to examine the data. Use pd.set_option('display.max_columns', None) after you import pands in order to view all columns."
   ]
  },
  {
   "cell_type": "code",
   "execution_count": 7,
   "metadata": {},
   "outputs": [],
   "source": [
    "nfl = pd.read_csv('data/nfl_plays_2022.csv')"
   ]
  },
  {
   "cell_type": "code",
   "execution_count": 8,
   "metadata": {},
   "outputs": [
    {
     "data": {
      "text/html": [
       "<div>\n",
       "<style scoped>\n",
       "    .dataframe tbody tr th:only-of-type {\n",
       "        vertical-align: middle;\n",
       "    }\n",
       "\n",
       "    .dataframe tbody tr th {\n",
       "        vertical-align: top;\n",
       "    }\n",
       "\n",
       "    .dataframe thead th {\n",
       "        text-align: right;\n",
       "    }\n",
       "</style>\n",
       "<table border=\"1\" class=\"dataframe\">\n",
       "  <thead>\n",
       "    <tr style=\"text-align: right;\">\n",
       "      <th></th>\n",
       "      <th>GameId</th>\n",
       "      <th>Month</th>\n",
       "      <th>Quarter</th>\n",
       "      <th>Minute</th>\n",
       "      <th>Second</th>\n",
       "      <th>OffenseTeam</th>\n",
       "      <th>DefenseTeam</th>\n",
       "      <th>Down</th>\n",
       "      <th>ToGo</th>\n",
       "      <th>YardLine</th>\n",
       "      <th>...</th>\n",
       "      <th>IsInterception</th>\n",
       "      <th>IsFumble</th>\n",
       "      <th>IsPenalty</th>\n",
       "      <th>IsTwoPointConversion</th>\n",
       "      <th>IsTwoPointConversionSuccessful</th>\n",
       "      <th>YardLineFixed</th>\n",
       "      <th>YardLineDirection</th>\n",
       "      <th>IsPenaltyAccepted</th>\n",
       "      <th>IsNoPlay</th>\n",
       "      <th>PenaltyYards</th>\n",
       "    </tr>\n",
       "  </thead>\n",
       "  <tbody>\n",
       "    <tr>\n",
       "      <th>0</th>\n",
       "      <td>2022090800</td>\n",
       "      <td>September</td>\n",
       "      <td>4</td>\n",
       "      <td>9</td>\n",
       "      <td>25</td>\n",
       "      <td>BUF</td>\n",
       "      <td>LA</td>\n",
       "      <td>0</td>\n",
       "      <td>0</td>\n",
       "      <td>85</td>\n",
       "      <td>...</td>\n",
       "      <td>0</td>\n",
       "      <td>0</td>\n",
       "      <td>0</td>\n",
       "      <td>0</td>\n",
       "      <td>0</td>\n",
       "      <td>15</td>\n",
       "      <td>OPP</td>\n",
       "      <td>0</td>\n",
       "      <td>0</td>\n",
       "      <td>0</td>\n",
       "    </tr>\n",
       "    <tr>\n",
       "      <th>1</th>\n",
       "      <td>2022090800</td>\n",
       "      <td>September</td>\n",
       "      <td>4</td>\n",
       "      <td>13</td>\n",
       "      <td>27</td>\n",
       "      <td>BUF</td>\n",
       "      <td>LA</td>\n",
       "      <td>0</td>\n",
       "      <td>0</td>\n",
       "      <td>85</td>\n",
       "      <td>...</td>\n",
       "      <td>0</td>\n",
       "      <td>0</td>\n",
       "      <td>0</td>\n",
       "      <td>0</td>\n",
       "      <td>0</td>\n",
       "      <td>15</td>\n",
       "      <td>OPP</td>\n",
       "      <td>0</td>\n",
       "      <td>0</td>\n",
       "      <td>0</td>\n",
       "    </tr>\n",
       "    <tr>\n",
       "      <th>2</th>\n",
       "      <td>2022090800</td>\n",
       "      <td>September</td>\n",
       "      <td>3</td>\n",
       "      <td>7</td>\n",
       "      <td>59</td>\n",
       "      <td>BUF</td>\n",
       "      <td>LA</td>\n",
       "      <td>0</td>\n",
       "      <td>0</td>\n",
       "      <td>85</td>\n",
       "      <td>...</td>\n",
       "      <td>0</td>\n",
       "      <td>0</td>\n",
       "      <td>0</td>\n",
       "      <td>0</td>\n",
       "      <td>0</td>\n",
       "      <td>15</td>\n",
       "      <td>OPP</td>\n",
       "      <td>0</td>\n",
       "      <td>0</td>\n",
       "      <td>0</td>\n",
       "    </tr>\n",
       "    <tr>\n",
       "      <th>3</th>\n",
       "      <td>2022090800</td>\n",
       "      <td>September</td>\n",
       "      <td>1</td>\n",
       "      <td>9</td>\n",
       "      <td>56</td>\n",
       "      <td>BUF</td>\n",
       "      <td>LA</td>\n",
       "      <td>0</td>\n",
       "      <td>0</td>\n",
       "      <td>85</td>\n",
       "      <td>...</td>\n",
       "      <td>0</td>\n",
       "      <td>0</td>\n",
       "      <td>0</td>\n",
       "      <td>0</td>\n",
       "      <td>0</td>\n",
       "      <td>15</td>\n",
       "      <td>OPP</td>\n",
       "      <td>0</td>\n",
       "      <td>0</td>\n",
       "      <td>0</td>\n",
       "    </tr>\n",
       "    <tr>\n",
       "      <th>4</th>\n",
       "      <td>2022090800</td>\n",
       "      <td>September</td>\n",
       "      <td>2</td>\n",
       "      <td>3</td>\n",
       "      <td>0</td>\n",
       "      <td>LA</td>\n",
       "      <td>BUF</td>\n",
       "      <td>0</td>\n",
       "      <td>0</td>\n",
       "      <td>85</td>\n",
       "      <td>...</td>\n",
       "      <td>0</td>\n",
       "      <td>0</td>\n",
       "      <td>0</td>\n",
       "      <td>0</td>\n",
       "      <td>0</td>\n",
       "      <td>15</td>\n",
       "      <td>OPP</td>\n",
       "      <td>0</td>\n",
       "      <td>0</td>\n",
       "      <td>0</td>\n",
       "    </tr>\n",
       "  </tbody>\n",
       "</table>\n",
       "<p>5 rows × 32 columns</p>\n",
       "</div>"
      ],
      "text/plain": [
       "       GameId      Month  Quarter  Minute  Second OffenseTeam DefenseTeam  \\\n",
       "0  2022090800  September        4       9      25         BUF          LA   \n",
       "1  2022090800  September        4      13      27         BUF          LA   \n",
       "2  2022090800  September        3       7      59         BUF          LA   \n",
       "3  2022090800  September        1       9      56         BUF          LA   \n",
       "4  2022090800  September        2       3       0          LA         BUF   \n",
       "\n",
       "   Down  ToGo  YardLine  ...  IsInterception  IsFumble IsPenalty  \\\n",
       "0     0     0        85  ...               0         0         0   \n",
       "1     0     0        85  ...               0         0         0   \n",
       "2     0     0        85  ...               0         0         0   \n",
       "3     0     0        85  ...               0         0         0   \n",
       "4     0     0        85  ...               0         0         0   \n",
       "\n",
       "  IsTwoPointConversion  IsTwoPointConversionSuccessful  YardLineFixed  \\\n",
       "0                    0                               0             15   \n",
       "1                    0                               0             15   \n",
       "2                    0                               0             15   \n",
       "3                    0                               0             15   \n",
       "4                    0                               0             15   \n",
       "\n",
       "   YardLineDirection  IsPenaltyAccepted  IsNoPlay  PenaltyYards  \n",
       "0                OPP                  0         0             0  \n",
       "1                OPP                  0         0             0  \n",
       "2                OPP                  0         0             0  \n",
       "3                OPP                  0         0             0  \n",
       "4                OPP                  0         0             0  \n",
       "\n",
       "[5 rows x 32 columns]"
      ]
     },
     "execution_count": 8,
     "metadata": {},
     "output_type": "execute_result"
    }
   ],
   "source": [
    "nfl.head()"
   ]
  },
  {
   "cell_type": "markdown",
   "metadata": {},
   "source": [
    "Drop all records except those with the formation of 'UNDER CENTER', 'SHOTGUN', 'NO HUDDLE', or 'NO HUDDLE SHOTGUN'."
   ]
  },
  {
   "cell_type": "code",
   "execution_count": 10,
   "metadata": {},
   "outputs": [],
   "source": [
    "nfl_subset = nfl[nfl.Formation.isin(['UNDER CENTER', 'SHOTGUN', 'NO HUDDLE', 'NO HUDDLE SHOTGUN'])]"
   ]
  },
  {
   "cell_type": "code",
   "execution_count": 15,
   "metadata": {},
   "outputs": [
    {
     "data": {
      "text/plain": [
       "array(['UNDER CENTER', 'SHOTGUN', 'NO HUDDLE', 'NO HUDDLE SHOTGUN'],\n",
       "      dtype=object)"
      ]
     },
     "execution_count": 15,
     "metadata": {},
     "output_type": "execute_result"
    }
   ],
   "source": [
    "nfl_subset.Formation.unique()"
   ]
  },
  {
   "cell_type": "markdown",
   "metadata": {},
   "source": [
    "Calculate the mean Yards for each Formation and add it to a KDE chart to view the differences by Formation"
   ]
  },
  {
   "cell_type": "code",
   "execution_count": 16,
   "metadata": {},
   "outputs": [],
   "source": [
    "import seaborn as sns\n",
    "from matplotlib import pyplot as plt"
   ]
  },
  {
   "cell_type": "code",
   "execution_count": 17,
   "metadata": {},
   "outputs": [
    {
     "data": {
      "image/png": "[encoded data removed]",
      "text/plain": [
       "<Figure size 708.25x500 with 1 Axes>"
      ]
     },
     "metadata": {},
     "output_type": "display_data"
    }
   ],
   "source": [
    "underCenter = nfl_subset[nfl_subset.Formation == 'UNDER CENTER'].Yards\n",
    "shotgun = nfl_subset[nfl_subset.Formation == 'SHOTGUN'].Yards\n",
    "noHuddle = nfl_subset[nfl_subset.Formation == 'NO HUDDLE'].Yards\n",
    "noHuddleShotgun = nfl_subset[nfl_subset.Formation == 'NO HUDDLE SHOTGUN'].Yards\n",
    "\n",
    "sns.displot(nfl_subset, x=\"Yards\", hue=\"Formation\", kind='kde', fill=True)\n",
    "plt.axvline(x=underCenter.mean(), color='blue')\n",
    "plt.axvline(x=shotgun.mean(), color='orange')\n",
    "plt.axvline(x=noHuddle.mean(), color='green')\n",
    "plt.axvline(x=noHuddleShotgun.mean(), color='red')\n",
    "plt.show()"
   ]
  },
  {
   "cell_type": "markdown",
   "metadata": {},
   "source": [
    "Using a t-test, determine whether there is a significant difference in Yards between No Huddle Shotgun and Under Center Formations\n",
    "\n"
   ]
  },
  {
   "cell_type": "code",
   "execution_count": 19,
   "metadata": {},
   "outputs": [
    {
     "data": {
      "text/plain": [
       "TtestResult(statistic=-14.564941231914194, pvalue=9.985085763249184e-48, df=14904.0)"
      ]
     },
     "execution_count": 19,
     "metadata": {},
     "output_type": "execute_result"
    }
   ],
   "source": [
    "from scipy import stats\n",
    "\n",
    "stats.ttest_ind(underCenter, noHuddleShotgun)"
   ]
  },
  {
   "cell_type": "markdown",
   "metadata": {},
   "source": [
    "Using an ANOVA, determine whether there is a significant difference among all four Formations"
   ]
  },
  {
   "cell_type": "code",
   "execution_count": 20,
   "metadata": {},
   "outputs": [
    {
     "data": {
      "text/plain": [
       "F_onewayResult(statistic=163.28299973772144, pvalue=4.637069096709806e-105)"
      ]
     },
     "execution_count": 20,
     "metadata": {},
     "output_type": "execute_result"
    }
   ],
   "source": [
    "# F test\n",
    "stats.f_oneway(shotgun, underCenter, noHuddle, noHuddleShotgun)"
   ]
  }
 ],
 "metadata": {
  "kernelspec": {
   "display_name": "base",
   "language": "python",
   "name": "python3"
  },
  "language_info": {
   "codemirror_mode": {
    "name": "ipython",
    "version": 3
   },
   "file_extension": ".py",
   "mimetype": "text/x-python",
   "name": "python",
   "nbconvert_exporter": "python",
   "pygments_lexer": "ipython3",
   "version": "3.11.7"
  },
  "orig_nbformat": 4
 },
 "nbformat": 4,
 "nbformat_minor": 2
}
